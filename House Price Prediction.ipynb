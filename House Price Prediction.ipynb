{
 "cells": [
  {
   "cell_type": "markdown",
   "metadata": {},
   "source": [
    "**Importing Data**\n"
   ]
  },
  {
   "cell_type": "code",
   "execution_count": 1,
   "metadata": {},
   "outputs": [],
   "source": [
    "import pandas as pd\n",
    "import numpy as np"
   ]
  },
  {
   "cell_type": "code",
   "execution_count": 2,
   "metadata": {},
   "outputs": [
    {
     "data": {
      "text/html": [
       "<div>\n",
       "<style scoped>\n",
       "    .dataframe tbody tr th:only-of-type {\n",
       "        vertical-align: middle;\n",
       "    }\n",
       "\n",
       "    .dataframe tbody tr th {\n",
       "        vertical-align: top;\n",
       "    }\n",
       "\n",
       "    .dataframe thead th {\n",
       "        text-align: right;\n",
       "    }\n",
       "</style>\n",
       "<table border=\"1\" class=\"dataframe\">\n",
       "  <thead>\n",
       "    <tr style=\"text-align: right;\">\n",
       "      <th></th>\n",
       "      <th>Taxi_dist</th>\n",
       "      <th>Market_dist</th>\n",
       "      <th>Hospital_dist</th>\n",
       "      <th>Carpet_area</th>\n",
       "      <th>Builtup_area</th>\n",
       "      <th>Parking_type</th>\n",
       "      <th>City_type</th>\n",
       "      <th>Rainfall</th>\n",
       "      <th>Price_house</th>\n",
       "    </tr>\n",
       "  </thead>\n",
       "  <tbody>\n",
       "    <tr>\n",
       "      <th>0</th>\n",
       "      <td>9796.0</td>\n",
       "      <td>5250.0</td>\n",
       "      <td>10703.0</td>\n",
       "      <td>1659.0</td>\n",
       "      <td>1961.0</td>\n",
       "      <td>Open</td>\n",
       "      <td>CAT B</td>\n",
       "      <td>530</td>\n",
       "      <td>6649000</td>\n",
       "    </tr>\n",
       "    <tr>\n",
       "      <th>1</th>\n",
       "      <td>8294.0</td>\n",
       "      <td>8186.0</td>\n",
       "      <td>12694.0</td>\n",
       "      <td>1461.0</td>\n",
       "      <td>1752.0</td>\n",
       "      <td>Not Provided</td>\n",
       "      <td>CAT B</td>\n",
       "      <td>210</td>\n",
       "      <td>3982000</td>\n",
       "    </tr>\n",
       "    <tr>\n",
       "      <th>2</th>\n",
       "      <td>11001.0</td>\n",
       "      <td>14399.0</td>\n",
       "      <td>16991.0</td>\n",
       "      <td>1340.0</td>\n",
       "      <td>1609.0</td>\n",
       "      <td>Not Provided</td>\n",
       "      <td>CAT A</td>\n",
       "      <td>720</td>\n",
       "      <td>5401000</td>\n",
       "    </tr>\n",
       "    <tr>\n",
       "      <th>3</th>\n",
       "      <td>8301.0</td>\n",
       "      <td>11188.0</td>\n",
       "      <td>12289.0</td>\n",
       "      <td>1451.0</td>\n",
       "      <td>1748.0</td>\n",
       "      <td>Covered</td>\n",
       "      <td>CAT B</td>\n",
       "      <td>620</td>\n",
       "      <td>5373000</td>\n",
       "    </tr>\n",
       "    <tr>\n",
       "      <th>4</th>\n",
       "      <td>10510.0</td>\n",
       "      <td>12629.0</td>\n",
       "      <td>13921.0</td>\n",
       "      <td>1770.0</td>\n",
       "      <td>2111.0</td>\n",
       "      <td>Not Provided</td>\n",
       "      <td>CAT B</td>\n",
       "      <td>450</td>\n",
       "      <td>4662000</td>\n",
       "    </tr>\n",
       "  </tbody>\n",
       "</table>\n",
       "</div>"
      ],
      "text/plain": [
       "   Taxi_dist  Market_dist  Hospital_dist  Carpet_area  Builtup_area  \\\n",
       "0     9796.0       5250.0        10703.0       1659.0        1961.0   \n",
       "1     8294.0       8186.0        12694.0       1461.0        1752.0   \n",
       "2    11001.0      14399.0        16991.0       1340.0        1609.0   \n",
       "3     8301.0      11188.0        12289.0       1451.0        1748.0   \n",
       "4    10510.0      12629.0        13921.0       1770.0        2111.0   \n",
       "\n",
       "   Parking_type City_type  Rainfall  Price_house  \n",
       "0          Open     CAT B       530      6649000  \n",
       "1  Not Provided     CAT B       210      3982000  \n",
       "2  Not Provided     CAT A       720      5401000  \n",
       "3       Covered     CAT B       620      5373000  \n",
       "4  Not Provided     CAT B       450      4662000  "
      ]
     },
     "execution_count": 2,
     "metadata": {},
     "output_type": "execute_result"
    }
   ],
   "source": [
    "df = pd.read_csv('House Price Prediction.csv')\n",
    "df.head()"
   ]
  },
  {
   "cell_type": "code",
   "execution_count": 3,
   "metadata": {},
   "outputs": [
    {
     "data": {
      "text/html": [
       "<div>\n",
       "<style scoped>\n",
       "    .dataframe tbody tr th:only-of-type {\n",
       "        vertical-align: middle;\n",
       "    }\n",
       "\n",
       "    .dataframe tbody tr th {\n",
       "        vertical-align: top;\n",
       "    }\n",
       "\n",
       "    .dataframe thead th {\n",
       "        text-align: right;\n",
       "    }\n",
       "</style>\n",
       "<table border=\"1\" class=\"dataframe\">\n",
       "  <thead>\n",
       "    <tr style=\"text-align: right;\">\n",
       "      <th></th>\n",
       "      <th>Taxi_dist</th>\n",
       "      <th>Market_dist</th>\n",
       "      <th>Hospital_dist</th>\n",
       "      <th>Carpet_area</th>\n",
       "      <th>Builtup_area</th>\n",
       "      <th>Parking_type</th>\n",
       "      <th>City_type</th>\n",
       "      <th>Rainfall</th>\n",
       "      <th>Price_house</th>\n",
       "    </tr>\n",
       "  </thead>\n",
       "  <tbody>\n",
       "    <tr>\n",
       "      <th>927</th>\n",
       "      <td>12176.0</td>\n",
       "      <td>8518.0</td>\n",
       "      <td>15673.0</td>\n",
       "      <td>1582.0</td>\n",
       "      <td>1910.0</td>\n",
       "      <td>Covered</td>\n",
       "      <td>CAT C</td>\n",
       "      <td>1080</td>\n",
       "      <td>6639000</td>\n",
       "    </tr>\n",
       "    <tr>\n",
       "      <th>928</th>\n",
       "      <td>7214.0</td>\n",
       "      <td>8717.0</td>\n",
       "      <td>10553.0</td>\n",
       "      <td>1387.0</td>\n",
       "      <td>1663.0</td>\n",
       "      <td>Open</td>\n",
       "      <td>CAT A</td>\n",
       "      <td>850</td>\n",
       "      <td>8208000</td>\n",
       "    </tr>\n",
       "    <tr>\n",
       "      <th>929</th>\n",
       "      <td>7423.0</td>\n",
       "      <td>11708.0</td>\n",
       "      <td>13220.0</td>\n",
       "      <td>1200.0</td>\n",
       "      <td>1436.0</td>\n",
       "      <td>Open</td>\n",
       "      <td>CAT A</td>\n",
       "      <td>1060</td>\n",
       "      <td>7644000</td>\n",
       "    </tr>\n",
       "    <tr>\n",
       "      <th>930</th>\n",
       "      <td>15082.0</td>\n",
       "      <td>14700.0</td>\n",
       "      <td>19617.0</td>\n",
       "      <td>1299.0</td>\n",
       "      <td>1560.0</td>\n",
       "      <td>Open</td>\n",
       "      <td>CAT B</td>\n",
       "      <td>770</td>\n",
       "      <td>9661000</td>\n",
       "    </tr>\n",
       "    <tr>\n",
       "      <th>931</th>\n",
       "      <td>9297.0</td>\n",
       "      <td>12537.0</td>\n",
       "      <td>14418.0</td>\n",
       "      <td>1174.0</td>\n",
       "      <td>1429.0</td>\n",
       "      <td>Covered</td>\n",
       "      <td>CAT C</td>\n",
       "      <td>1110</td>\n",
       "      <td>5434000</td>\n",
       "    </tr>\n",
       "  </tbody>\n",
       "</table>\n",
       "</div>"
      ],
      "text/plain": [
       "     Taxi_dist  Market_dist  Hospital_dist  Carpet_area  Builtup_area  \\\n",
       "927    12176.0       8518.0        15673.0       1582.0        1910.0   \n",
       "928     7214.0       8717.0        10553.0       1387.0        1663.0   \n",
       "929     7423.0      11708.0        13220.0       1200.0        1436.0   \n",
       "930    15082.0      14700.0        19617.0       1299.0        1560.0   \n",
       "931     9297.0      12537.0        14418.0       1174.0        1429.0   \n",
       "\n",
       "    Parking_type City_type  Rainfall  Price_house  \n",
       "927      Covered     CAT C      1080      6639000  \n",
       "928         Open     CAT A       850      8208000  \n",
       "929         Open     CAT A      1060      7644000  \n",
       "930         Open     CAT B       770      9661000  \n",
       "931      Covered     CAT C      1110      5434000  "
      ]
     },
     "execution_count": 3,
     "metadata": {},
     "output_type": "execute_result"
    }
   ],
   "source": [
    "df.tail()"
   ]
  },
  {
   "cell_type": "markdown",
   "metadata": {},
   "source": [
    "**Data Wrangling/Data Cleaning**"
   ]
  },
  {
   "cell_type": "code",
   "execution_count": 4,
   "metadata": {},
   "outputs": [],
   "source": [
    "missing_data = df.isnull()"
   ]
  },
  {
   "cell_type": "code",
   "execution_count": 5,
   "metadata": {},
   "outputs": [
    {
     "name": "stdout",
     "output_type": "stream",
     "text": [
      "Taxi_dist\n",
      "False    919\n",
      "True      13\n",
      "Name: Taxi_dist, dtype: int64\n",
      "\n",
      "Market_dist\n",
      "False    919\n",
      "True      13\n",
      "Name: Market_dist, dtype: int64\n",
      "\n",
      "Hospital_dist\n",
      "False    931\n",
      "True       1\n",
      "Name: Hospital_dist, dtype: int64\n",
      "\n",
      "Carpet_area\n",
      "False    924\n",
      "True       8\n",
      "Name: Carpet_area, dtype: int64\n",
      "\n",
      "Builtup_area\n",
      "False    917\n",
      "True      15\n",
      "Name: Builtup_area, dtype: int64\n",
      "\n",
      "Parking_type\n",
      "False    932\n",
      "Name: Parking_type, dtype: int64\n",
      "\n",
      "City_type\n",
      "False    932\n",
      "Name: City_type, dtype: int64\n",
      "\n",
      "Rainfall\n",
      "False    932\n",
      "Name: Rainfall, dtype: int64\n",
      "\n",
      "Price_house\n",
      "False    932\n",
      "Name: Price_house, dtype: int64\n",
      "\n"
     ]
    }
   ],
   "source": [
    "for column in missing_data.columns.values.tolist():\n",
    "    print(column)\n",
    "    print(missing_data[column].value_counts())\n",
    "    print(\"\")"
   ]
  },
  {
   "cell_type": "code",
   "execution_count": 6,
   "metadata": {},
   "outputs": [
    {
     "data": {
      "text/plain": [
       "Taxi_dist        float64\n",
       "Market_dist      float64\n",
       "Hospital_dist    float64\n",
       "Carpet_area      float64\n",
       "Builtup_area     float64\n",
       "Parking_type      object\n",
       "City_type         object\n",
       "Rainfall           int64\n",
       "Price_house        int64\n",
       "dtype: object"
      ]
     },
     "execution_count": 6,
     "metadata": {},
     "output_type": "execute_result"
    }
   ],
   "source": [
    "df.dtypes"
   ]
  },
  {
   "cell_type": "code",
   "execution_count": 7,
   "metadata": {},
   "outputs": [
    {
     "name": "stdout",
     "output_type": "stream",
     "text": [
      "average Taxi Distance: 8229.727965179543\n"
     ]
    }
   ],
   "source": [
    "avg_Taxi_dist=df['Taxi_dist'].mean(axis=0)\n",
    "print('average Taxi Distance:',avg_Taxi_dist)"
   ]
  },
  {
   "cell_type": "code",
   "execution_count": 8,
   "metadata": {},
   "outputs": [
    {
     "name": "stdout",
     "output_type": "stream",
     "text": [
      "average Market Distance: 11018.752992383024\n"
     ]
    }
   ],
   "source": [
    "avg_Market_dist=df['Market_dist'].mean(axis=0)\n",
    "print('average Market Distance:',avg_Market_dist)"
   ]
  },
  {
   "cell_type": "code",
   "execution_count": 9,
   "metadata": {},
   "outputs": [
    {
     "name": "stdout",
     "output_type": "stream",
     "text": [
      "average Hospital dist: 13072.092373791622\n"
     ]
    }
   ],
   "source": [
    "avg_Hospital_dist=df['Hospital_dist'].mean(axis=0)\n",
    "print('average Hospital dist:',avg_Hospital_dist)"
   ]
  },
  {
   "cell_type": "code",
   "execution_count": 10,
   "metadata": {},
   "outputs": [
    {
     "name": "stdout",
     "output_type": "stream",
     "text": [
      "average Carpet_area: 1511.862554112554\n"
     ]
    }
   ],
   "source": [
    "avg_Carpet_area=df['Carpet_area'].mean(axis=0)\n",
    "print('average Carpet_area:',avg_Carpet_area)"
   ]
  },
  {
   "cell_type": "code",
   "execution_count": 11,
   "metadata": {},
   "outputs": [
    {
     "name": "stdout",
     "output_type": "stream",
     "text": [
      "average Builtup_area: 1794.9247546346783\n"
     ]
    }
   ],
   "source": [
    "avg_Builtup_area=df['Builtup_area'].mean(axis=0)\n",
    "print('average Builtup_area:',avg_Builtup_area)"
   ]
  },
  {
   "cell_type": "code",
   "execution_count": 12,
   "metadata": {},
   "outputs": [],
   "source": [
    "df.replace('?',np.nan,inplace=True)"
   ]
  },
  {
   "cell_type": "code",
   "execution_count": 13,
   "metadata": {},
   "outputs": [],
   "source": [
    "df['Taxi_dist'].replace(np.nan,avg_Taxi_dist,inplace=True)\n",
    "df['Market_dist'].replace(np.nan,avg_Market_dist,inplace=True)\n",
    "df['Hospital_dist'].replace(np.nan,avg_Hospital_dist,inplace=True)\n",
    "df['Carpet_area'].replace(np.nan,avg_Carpet_area,inplace=True)\n",
    "df['Builtup_area'].replace(np.nan,avg_Builtup_area,inplace=True)"
   ]
  },
  {
   "cell_type": "code",
   "execution_count": 14,
   "metadata": {},
   "outputs": [
    {
     "data": {
      "text/html": [
       "<div>\n",
       "<style scoped>\n",
       "    .dataframe tbody tr th:only-of-type {\n",
       "        vertical-align: middle;\n",
       "    }\n",
       "\n",
       "    .dataframe tbody tr th {\n",
       "        vertical-align: top;\n",
       "    }\n",
       "\n",
       "    .dataframe thead th {\n",
       "        text-align: right;\n",
       "    }\n",
       "</style>\n",
       "<table border=\"1\" class=\"dataframe\">\n",
       "  <thead>\n",
       "    <tr style=\"text-align: right;\">\n",
       "      <th></th>\n",
       "      <th>Taxi_dist</th>\n",
       "      <th>Market_dist</th>\n",
       "      <th>Hospital_dist</th>\n",
       "      <th>Carpet_area</th>\n",
       "      <th>Builtup_area</th>\n",
       "      <th>Parking_type</th>\n",
       "      <th>City_type</th>\n",
       "      <th>Rainfall</th>\n",
       "      <th>Price_house</th>\n",
       "    </tr>\n",
       "  </thead>\n",
       "  <tbody>\n",
       "    <tr>\n",
       "      <th>0</th>\n",
       "      <td>9796.0</td>\n",
       "      <td>5250.0</td>\n",
       "      <td>10703.0</td>\n",
       "      <td>1659.0</td>\n",
       "      <td>1961.0</td>\n",
       "      <td>Open</td>\n",
       "      <td>CAT B</td>\n",
       "      <td>530</td>\n",
       "      <td>6649000</td>\n",
       "    </tr>\n",
       "    <tr>\n",
       "      <th>1</th>\n",
       "      <td>8294.0</td>\n",
       "      <td>8186.0</td>\n",
       "      <td>12694.0</td>\n",
       "      <td>1461.0</td>\n",
       "      <td>1752.0</td>\n",
       "      <td>Not Provided</td>\n",
       "      <td>CAT B</td>\n",
       "      <td>210</td>\n",
       "      <td>3982000</td>\n",
       "    </tr>\n",
       "    <tr>\n",
       "      <th>2</th>\n",
       "      <td>11001.0</td>\n",
       "      <td>14399.0</td>\n",
       "      <td>16991.0</td>\n",
       "      <td>1340.0</td>\n",
       "      <td>1609.0</td>\n",
       "      <td>Not Provided</td>\n",
       "      <td>CAT A</td>\n",
       "      <td>720</td>\n",
       "      <td>5401000</td>\n",
       "    </tr>\n",
       "    <tr>\n",
       "      <th>3</th>\n",
       "      <td>8301.0</td>\n",
       "      <td>11188.0</td>\n",
       "      <td>12289.0</td>\n",
       "      <td>1451.0</td>\n",
       "      <td>1748.0</td>\n",
       "      <td>Covered</td>\n",
       "      <td>CAT B</td>\n",
       "      <td>620</td>\n",
       "      <td>5373000</td>\n",
       "    </tr>\n",
       "    <tr>\n",
       "      <th>4</th>\n",
       "      <td>10510.0</td>\n",
       "      <td>12629.0</td>\n",
       "      <td>13921.0</td>\n",
       "      <td>1770.0</td>\n",
       "      <td>2111.0</td>\n",
       "      <td>Not Provided</td>\n",
       "      <td>CAT B</td>\n",
       "      <td>450</td>\n",
       "      <td>4662000</td>\n",
       "    </tr>\n",
       "  </tbody>\n",
       "</table>\n",
       "</div>"
      ],
      "text/plain": [
       "   Taxi_dist  Market_dist  Hospital_dist  Carpet_area  Builtup_area  \\\n",
       "0     9796.0       5250.0        10703.0       1659.0        1961.0   \n",
       "1     8294.0       8186.0        12694.0       1461.0        1752.0   \n",
       "2    11001.0      14399.0        16991.0       1340.0        1609.0   \n",
       "3     8301.0      11188.0        12289.0       1451.0        1748.0   \n",
       "4    10510.0      12629.0        13921.0       1770.0        2111.0   \n",
       "\n",
       "   Parking_type City_type  Rainfall  Price_house  \n",
       "0          Open     CAT B       530      6649000  \n",
       "1  Not Provided     CAT B       210      3982000  \n",
       "2  Not Provided     CAT A       720      5401000  \n",
       "3       Covered     CAT B       620      5373000  \n",
       "4  Not Provided     CAT B       450      4662000  "
      ]
     },
     "execution_count": 14,
     "metadata": {},
     "output_type": "execute_result"
    }
   ],
   "source": [
    "df.head()"
   ]
  },
  {
   "cell_type": "code",
   "execution_count": 15,
   "metadata": {},
   "outputs": [],
   "source": [
    "df['Taxi_dist']=df['Taxi_dist']/df['Taxi_dist'].max()\n",
    "df['Market_dist']=df['Market_dist']/df['Market_dist'].max()\n",
    "df['Hospital_dist']=df['Hospital_dist']/df['Hospital_dist'].max()\n",
    "df['Carpet_area']=df['Carpet_area']/df['Carpet_area'].max()\n",
    "df['Builtup_area']=df['Builtup_area']/df['Builtup_area'].max()\n",
    "df['Price_house']=df['Price_house']/df['Price_house'].max()"
   ]
  },
  {
   "cell_type": "code",
   "execution_count": 16,
   "metadata": {},
   "outputs": [
    {
     "data": {
      "text/html": [
       "<div>\n",
       "<style scoped>\n",
       "    .dataframe tbody tr th:only-of-type {\n",
       "        vertical-align: middle;\n",
       "    }\n",
       "\n",
       "    .dataframe tbody tr th {\n",
       "        vertical-align: top;\n",
       "    }\n",
       "\n",
       "    .dataframe thead th {\n",
       "        text-align: right;\n",
       "    }\n",
       "</style>\n",
       "<table border=\"1\" class=\"dataframe\">\n",
       "  <thead>\n",
       "    <tr style=\"text-align: right;\">\n",
       "      <th></th>\n",
       "      <th>Taxi_dist</th>\n",
       "      <th>Market_dist</th>\n",
       "      <th>Hospital_dist</th>\n",
       "      <th>Carpet_area</th>\n",
       "      <th>Builtup_area</th>\n",
       "      <th>Parking_type</th>\n",
       "      <th>City_type</th>\n",
       "      <th>Rainfall</th>\n",
       "      <th>Price_house</th>\n",
       "    </tr>\n",
       "  </thead>\n",
       "  <tbody>\n",
       "    <tr>\n",
       "      <th>0</th>\n",
       "      <td>0.474107</td>\n",
       "      <td>0.250656</td>\n",
       "      <td>0.459475</td>\n",
       "      <td>0.068272</td>\n",
       "      <td>0.154046</td>\n",
       "      <td>Open</td>\n",
       "      <td>CAT B</td>\n",
       "      <td>530</td>\n",
       "      <td>0.044327</td>\n",
       "    </tr>\n",
       "    <tr>\n",
       "      <th>1</th>\n",
       "      <td>0.401413</td>\n",
       "      <td>0.390833</td>\n",
       "      <td>0.544947</td>\n",
       "      <td>0.060123</td>\n",
       "      <td>0.137628</td>\n",
       "      <td>Not Provided</td>\n",
       "      <td>CAT B</td>\n",
       "      <td>210</td>\n",
       "      <td>0.026547</td>\n",
       "    </tr>\n",
       "    <tr>\n",
       "      <th>2</th>\n",
       "      <td>0.532427</td>\n",
       "      <td>0.687467</td>\n",
       "      <td>0.729415</td>\n",
       "      <td>0.055144</td>\n",
       "      <td>0.126394</td>\n",
       "      <td>Not Provided</td>\n",
       "      <td>CAT A</td>\n",
       "      <td>720</td>\n",
       "      <td>0.036007</td>\n",
       "    </tr>\n",
       "    <tr>\n",
       "      <th>3</th>\n",
       "      <td>0.401752</td>\n",
       "      <td>0.534161</td>\n",
       "      <td>0.527561</td>\n",
       "      <td>0.059712</td>\n",
       "      <td>0.137313</td>\n",
       "      <td>Covered</td>\n",
       "      <td>CAT B</td>\n",
       "      <td>620</td>\n",
       "      <td>0.035820</td>\n",
       "    </tr>\n",
       "    <tr>\n",
       "      <th>4</th>\n",
       "      <td>0.508663</td>\n",
       "      <td>0.602960</td>\n",
       "      <td>0.597622</td>\n",
       "      <td>0.072840</td>\n",
       "      <td>0.165829</td>\n",
       "      <td>Not Provided</td>\n",
       "      <td>CAT B</td>\n",
       "      <td>450</td>\n",
       "      <td>0.031080</td>\n",
       "    </tr>\n",
       "    <tr>\n",
       "      <th>5</th>\n",
       "      <td>0.322573</td>\n",
       "      <td>0.245500</td>\n",
       "      <td>0.428093</td>\n",
       "      <td>0.059342</td>\n",
       "      <td>0.136135</td>\n",
       "      <td>Open</td>\n",
       "      <td>CAT B</td>\n",
       "      <td>760</td>\n",
       "      <td>0.030173</td>\n",
       "    </tr>\n",
       "    <tr>\n",
       "      <th>6</th>\n",
       "      <td>0.636579</td>\n",
       "      <td>0.566675</td>\n",
       "      <td>0.764617</td>\n",
       "      <td>0.063457</td>\n",
       "      <td>0.145954</td>\n",
       "      <td>No Parking</td>\n",
       "      <td>CAT A</td>\n",
       "      <td>1030</td>\n",
       "      <td>0.048160</td>\n",
       "    </tr>\n",
       "    <tr>\n",
       "      <th>7</th>\n",
       "      <td>0.284677</td>\n",
       "      <td>0.474958</td>\n",
       "      <td>0.571606</td>\n",
       "      <td>0.051893</td>\n",
       "      <td>0.118382</td>\n",
       "      <td>Open</td>\n",
       "      <td>CAT C</td>\n",
       "      <td>1020</td>\n",
       "      <td>0.025147</td>\n",
       "    </tr>\n",
       "    <tr>\n",
       "      <th>8</th>\n",
       "      <td>0.362743</td>\n",
       "      <td>0.553306</td>\n",
       "      <td>0.573968</td>\n",
       "      <td>0.044856</td>\n",
       "      <td>0.103771</td>\n",
       "      <td>Not Provided</td>\n",
       "      <td>CAT B</td>\n",
       "      <td>680</td>\n",
       "      <td>0.030873</td>\n",
       "    </tr>\n",
       "    <tr>\n",
       "      <th>9</th>\n",
       "      <td>0.398461</td>\n",
       "      <td>0.337407</td>\n",
       "      <td>0.489396</td>\n",
       "      <td>0.042387</td>\n",
       "      <td>0.097015</td>\n",
       "      <td>Open</td>\n",
       "      <td>CAT C</td>\n",
       "      <td>1130</td>\n",
       "      <td>0.029433</td>\n",
       "    </tr>\n",
       "    <tr>\n",
       "      <th>10</th>\n",
       "      <td>0.207047</td>\n",
       "      <td>0.508284</td>\n",
       "      <td>0.353868</td>\n",
       "      <td>0.048848</td>\n",
       "      <td>0.113040</td>\n",
       "      <td>Covered</td>\n",
       "      <td>CAT A</td>\n",
       "      <td>1090</td>\n",
       "      <td>0.047520</td>\n",
       "    </tr>\n",
       "    <tr>\n",
       "      <th>11</th>\n",
       "      <td>0.390378</td>\n",
       "      <td>0.532299</td>\n",
       "      <td>0.555336</td>\n",
       "      <td>0.072058</td>\n",
       "      <td>0.164808</td>\n",
       "      <td>No Parking</td>\n",
       "      <td>CAT B</td>\n",
       "      <td>720</td>\n",
       "      <td>0.038413</td>\n",
       "    </tr>\n",
       "    <tr>\n",
       "      <th>12</th>\n",
       "      <td>0.372326</td>\n",
       "      <td>0.435904</td>\n",
       "      <td>0.630377</td>\n",
       "      <td>0.071852</td>\n",
       "      <td>0.162137</td>\n",
       "      <td>Open</td>\n",
       "      <td>CAT B</td>\n",
       "      <td>1050</td>\n",
       "      <td>0.040313</td>\n",
       "    </tr>\n",
       "    <tr>\n",
       "      <th>13</th>\n",
       "      <td>0.253412</td>\n",
       "      <td>0.518167</td>\n",
       "      <td>0.560402</td>\n",
       "      <td>0.066461</td>\n",
       "      <td>0.151689</td>\n",
       "      <td>Covered</td>\n",
       "      <td>CAT B</td>\n",
       "      <td>1160</td>\n",
       "      <td>0.039420</td>\n",
       "    </tr>\n",
       "    <tr>\n",
       "      <th>14</th>\n",
       "      <td>0.291695</td>\n",
       "      <td>0.320220</td>\n",
       "      <td>0.436851</td>\n",
       "      <td>0.060453</td>\n",
       "      <td>0.137942</td>\n",
       "      <td>Open</td>\n",
       "      <td>CAT B</td>\n",
       "      <td>770</td>\n",
       "      <td>0.044240</td>\n",
       "    </tr>\n",
       "    <tr>\n",
       "      <th>15</th>\n",
       "      <td>0.466944</td>\n",
       "      <td>0.706087</td>\n",
       "      <td>0.550013</td>\n",
       "      <td>0.067654</td>\n",
       "      <td>0.153181</td>\n",
       "      <td>Covered</td>\n",
       "      <td>CAT A</td>\n",
       "      <td>790</td>\n",
       "      <td>0.052580</td>\n",
       "    </tr>\n",
       "    <tr>\n",
       "      <th>16</th>\n",
       "      <td>0.536202</td>\n",
       "      <td>0.625543</td>\n",
       "      <td>0.561346</td>\n",
       "      <td>0.064938</td>\n",
       "      <td>0.149804</td>\n",
       "      <td>Open</td>\n",
       "      <td>CAT A</td>\n",
       "      <td>1440</td>\n",
       "      <td>0.051500</td>\n",
       "    </tr>\n",
       "    <tr>\n",
       "      <th>17</th>\n",
       "      <td>0.324170</td>\n",
       "      <td>0.549964</td>\n",
       "      <td>0.577016</td>\n",
       "      <td>0.070082</td>\n",
       "      <td>0.160644</td>\n",
       "      <td>Covered</td>\n",
       "      <td>CAT B</td>\n",
       "      <td>670</td>\n",
       "      <td>0.025447</td>\n",
       "    </tr>\n",
       "    <tr>\n",
       "      <th>18</th>\n",
       "      <td>0.465057</td>\n",
       "      <td>0.432848</td>\n",
       "      <td>0.571134</td>\n",
       "      <td>0.059177</td>\n",
       "      <td>0.135978</td>\n",
       "      <td>Open</td>\n",
       "      <td>CAT A</td>\n",
       "      <td>1030</td>\n",
       "      <td>0.042360</td>\n",
       "    </tr>\n",
       "    <tr>\n",
       "      <th>19</th>\n",
       "      <td>0.300503</td>\n",
       "      <td>0.374266</td>\n",
       "      <td>0.457629</td>\n",
       "      <td>0.075597</td>\n",
       "      <td>0.141000</td>\n",
       "      <td>Open</td>\n",
       "      <td>CAT B</td>\n",
       "      <td>790</td>\n",
       "      <td>0.032813</td>\n",
       "    </tr>\n",
       "    <tr>\n",
       "      <th>20</th>\n",
       "      <td>0.394686</td>\n",
       "      <td>0.386011</td>\n",
       "      <td>0.422298</td>\n",
       "      <td>0.079835</td>\n",
       "      <td>0.183818</td>\n",
       "      <td>Covered</td>\n",
       "      <td>CAT C</td>\n",
       "      <td>980</td>\n",
       "      <td>0.026793</td>\n",
       "    </tr>\n",
       "    <tr>\n",
       "      <th>21</th>\n",
       "      <td>0.467961</td>\n",
       "      <td>0.591311</td>\n",
       "      <td>0.583369</td>\n",
       "      <td>0.058477</td>\n",
       "      <td>0.133543</td>\n",
       "      <td>No Parking</td>\n",
       "      <td>CAT C</td>\n",
       "      <td>370</td>\n",
       "      <td>0.028973</td>\n",
       "    </tr>\n",
       "    <tr>\n",
       "      <th>22</th>\n",
       "      <td>0.562046</td>\n",
       "      <td>0.557412</td>\n",
       "      <td>0.664377</td>\n",
       "      <td>0.060000</td>\n",
       "      <td>0.137156</td>\n",
       "      <td>Open</td>\n",
       "      <td>CAT A</td>\n",
       "      <td>690</td>\n",
       "      <td>0.045927</td>\n",
       "    </tr>\n",
       "    <tr>\n",
       "      <th>23</th>\n",
       "      <td>0.516117</td>\n",
       "      <td>0.676104</td>\n",
       "      <td>0.647205</td>\n",
       "      <td>0.070741</td>\n",
       "      <td>0.162215</td>\n",
       "      <td>Covered</td>\n",
       "      <td>CAT B</td>\n",
       "      <td>950</td>\n",
       "      <td>0.035187</td>\n",
       "    </tr>\n",
       "    <tr>\n",
       "      <th>24</th>\n",
       "      <td>0.353741</td>\n",
       "      <td>0.356553</td>\n",
       "      <td>0.491972</td>\n",
       "      <td>0.059630</td>\n",
       "      <td>0.137628</td>\n",
       "      <td>Not Provided</td>\n",
       "      <td>CAT B</td>\n",
       "      <td>620</td>\n",
       "      <td>0.033787</td>\n",
       "    </tr>\n",
       "    <tr>\n",
       "      <th>25</th>\n",
       "      <td>0.343771</td>\n",
       "      <td>0.469420</td>\n",
       "      <td>0.469778</td>\n",
       "      <td>0.050782</td>\n",
       "      <td>0.116889</td>\n",
       "      <td>No Parking</td>\n",
       "      <td>CAT B</td>\n",
       "      <td>840</td>\n",
       "      <td>0.027920</td>\n",
       "    </tr>\n",
       "    <tr>\n",
       "      <th>26</th>\n",
       "      <td>0.320153</td>\n",
       "      <td>0.390451</td>\n",
       "      <td>0.549669</td>\n",
       "      <td>0.071276</td>\n",
       "      <td>0.162844</td>\n",
       "      <td>Not Provided</td>\n",
       "      <td>CAT C</td>\n",
       "      <td>820</td>\n",
       "      <td>0.046700</td>\n",
       "    </tr>\n",
       "    <tr>\n",
       "      <th>27</th>\n",
       "      <td>0.526087</td>\n",
       "      <td>0.574839</td>\n",
       "      <td>0.653430</td>\n",
       "      <td>0.060700</td>\n",
       "      <td>0.139592</td>\n",
       "      <td>Open</td>\n",
       "      <td>CAT C</td>\n",
       "      <td>1100</td>\n",
       "      <td>0.017213</td>\n",
       "    </tr>\n",
       "    <tr>\n",
       "      <th>28</th>\n",
       "      <td>0.347788</td>\n",
       "      <td>0.401050</td>\n",
       "      <td>0.478707</td>\n",
       "      <td>0.050453</td>\n",
       "      <td>0.141000</td>\n",
       "      <td>Open</td>\n",
       "      <td>CAT C</td>\n",
       "      <td>760</td>\n",
       "      <td>0.031773</td>\n",
       "    </tr>\n",
       "    <tr>\n",
       "      <th>29</th>\n",
       "      <td>0.567951</td>\n",
       "      <td>0.510241</td>\n",
       "      <td>0.727827</td>\n",
       "      <td>0.057202</td>\n",
       "      <td>0.129458</td>\n",
       "      <td>No Parking</td>\n",
       "      <td>CAT B</td>\n",
       "      <td>980</td>\n",
       "      <td>0.040353</td>\n",
       "    </tr>\n",
       "    <tr>\n",
       "      <th>30</th>\n",
       "      <td>0.650518</td>\n",
       "      <td>0.661351</td>\n",
       "      <td>0.772259</td>\n",
       "      <td>0.067572</td>\n",
       "      <td>0.152632</td>\n",
       "      <td>No Parking</td>\n",
       "      <td>CAT B</td>\n",
       "      <td>710</td>\n",
       "      <td>0.052067</td>\n",
       "    </tr>\n",
       "    <tr>\n",
       "      <th>31</th>\n",
       "      <td>0.429581</td>\n",
       "      <td>0.638434</td>\n",
       "      <td>0.680218</td>\n",
       "      <td>0.070576</td>\n",
       "      <td>0.162687</td>\n",
       "      <td>Open</td>\n",
       "      <td>CAT B</td>\n",
       "      <td>650</td>\n",
       "      <td>0.056573</td>\n",
       "    </tr>\n",
       "    <tr>\n",
       "      <th>32</th>\n",
       "      <td>0.196786</td>\n",
       "      <td>0.444879</td>\n",
       "      <td>0.436121</td>\n",
       "      <td>0.059218</td>\n",
       "      <td>0.137156</td>\n",
       "      <td>Open</td>\n",
       "      <td>CAT A</td>\n",
       "      <td>990</td>\n",
       "      <td>0.053427</td>\n",
       "    </tr>\n",
       "    <tr>\n",
       "      <th>33</th>\n",
       "      <td>0.399187</td>\n",
       "      <td>0.404106</td>\n",
       "      <td>0.484760</td>\n",
       "      <td>0.051440</td>\n",
       "      <td>0.118460</td>\n",
       "      <td>Open</td>\n",
       "      <td>CAT C</td>\n",
       "      <td>990</td>\n",
       "      <td>0.009947</td>\n",
       "    </tr>\n",
       "    <tr>\n",
       "      <th>34</th>\n",
       "      <td>0.479334</td>\n",
       "      <td>0.566531</td>\n",
       "      <td>0.625311</td>\n",
       "      <td>0.054774</td>\n",
       "      <td>0.126316</td>\n",
       "      <td>Open</td>\n",
       "      <td>CAT B</td>\n",
       "      <td>880</td>\n",
       "      <td>0.040307</td>\n",
       "    </tr>\n",
       "    <tr>\n",
       "      <th>35</th>\n",
       "      <td>0.315846</td>\n",
       "      <td>0.376032</td>\n",
       "      <td>0.481454</td>\n",
       "      <td>0.073416</td>\n",
       "      <td>0.169914</td>\n",
       "      <td>Covered</td>\n",
       "      <td>CAT B</td>\n",
       "      <td>620</td>\n",
       "      <td>0.049707</td>\n",
       "    </tr>\n",
       "    <tr>\n",
       "      <th>36</th>\n",
       "      <td>0.298422</td>\n",
       "      <td>0.462163</td>\n",
       "      <td>0.518546</td>\n",
       "      <td>0.056584</td>\n",
       "      <td>0.129458</td>\n",
       "      <td>Not Provided</td>\n",
       "      <td>CAT A</td>\n",
       "      <td>1020</td>\n",
       "      <td>0.048287</td>\n",
       "    </tr>\n",
       "    <tr>\n",
       "      <th>37</th>\n",
       "      <td>0.245088</td>\n",
       "      <td>0.504798</td>\n",
       "      <td>0.420537</td>\n",
       "      <td>0.076996</td>\n",
       "      <td>0.175177</td>\n",
       "      <td>Covered</td>\n",
       "      <td>CAT B</td>\n",
       "      <td>700</td>\n",
       "      <td>0.030307</td>\n",
       "    </tr>\n",
       "    <tr>\n",
       "      <th>38</th>\n",
       "      <td>0.324848</td>\n",
       "      <td>0.493722</td>\n",
       "      <td>0.670945</td>\n",
       "      <td>0.059342</td>\n",
       "      <td>0.136999</td>\n",
       "      <td>Not Provided</td>\n",
       "      <td>CAT C</td>\n",
       "      <td>610</td>\n",
       "      <td>0.027713</td>\n",
       "    </tr>\n",
       "    <tr>\n",
       "      <th>39</th>\n",
       "      <td>0.402526</td>\n",
       "      <td>0.634328</td>\n",
       "      <td>0.548854</td>\n",
       "      <td>0.048313</td>\n",
       "      <td>0.110841</td>\n",
       "      <td>Covered</td>\n",
       "      <td>CAT A</td>\n",
       "      <td>1080</td>\n",
       "      <td>0.041913</td>\n",
       "    </tr>\n",
       "    <tr>\n",
       "      <th>40</th>\n",
       "      <td>0.377311</td>\n",
       "      <td>0.816472</td>\n",
       "      <td>0.695115</td>\n",
       "      <td>0.075679</td>\n",
       "      <td>0.173134</td>\n",
       "      <td>No Parking</td>\n",
       "      <td>CAT B</td>\n",
       "      <td>1010</td>\n",
       "      <td>0.036780</td>\n",
       "    </tr>\n",
       "    <tr>\n",
       "      <th>41</th>\n",
       "      <td>0.443858</td>\n",
       "      <td>0.399523</td>\n",
       "      <td>0.539452</td>\n",
       "      <td>0.052263</td>\n",
       "      <td>0.119089</td>\n",
       "      <td>Not Provided</td>\n",
       "      <td>CAT B</td>\n",
       "      <td>0</td>\n",
       "      <td>0.030320</td>\n",
       "    </tr>\n",
       "    <tr>\n",
       "      <th>42</th>\n",
       "      <td>0.412593</td>\n",
       "      <td>0.551110</td>\n",
       "      <td>0.583369</td>\n",
       "      <td>0.049753</td>\n",
       "      <td>0.141000</td>\n",
       "      <td>Open</td>\n",
       "      <td>CAT A</td>\n",
       "      <td>1200</td>\n",
       "      <td>0.040273</td>\n",
       "    </tr>\n",
       "    <tr>\n",
       "      <th>43</th>\n",
       "      <td>0.452860</td>\n",
       "      <td>0.553068</td>\n",
       "      <td>0.610415</td>\n",
       "      <td>0.059053</td>\n",
       "      <td>0.135507</td>\n",
       "      <td>Open</td>\n",
       "      <td>CAT C</td>\n",
       "      <td>1250</td>\n",
       "      <td>0.033033</td>\n",
       "    </tr>\n",
       "    <tr>\n",
       "      <th>44</th>\n",
       "      <td>0.392072</td>\n",
       "      <td>0.533588</td>\n",
       "      <td>0.579634</td>\n",
       "      <td>0.039712</td>\n",
       "      <td>0.090495</td>\n",
       "      <td>Not Provided</td>\n",
       "      <td>CAT C</td>\n",
       "      <td>600</td>\n",
       "      <td>0.032093</td>\n",
       "    </tr>\n",
       "    <tr>\n",
       "      <th>45</th>\n",
       "      <td>0.425612</td>\n",
       "      <td>0.582430</td>\n",
       "      <td>0.612819</td>\n",
       "      <td>0.068519</td>\n",
       "      <td>0.157188</td>\n",
       "      <td>No Parking</td>\n",
       "      <td>CAT A</td>\n",
       "      <td>730</td>\n",
       "      <td>0.045093</td>\n",
       "    </tr>\n",
       "    <tr>\n",
       "      <th>46</th>\n",
       "      <td>0.291211</td>\n",
       "      <td>0.675436</td>\n",
       "      <td>0.542715</td>\n",
       "      <td>0.073251</td>\n",
       "      <td>0.166300</td>\n",
       "      <td>Open</td>\n",
       "      <td>CAT C</td>\n",
       "      <td>780</td>\n",
       "      <td>0.026487</td>\n",
       "    </tr>\n",
       "    <tr>\n",
       "      <th>47</th>\n",
       "      <td>0.545204</td>\n",
       "      <td>0.620625</td>\n",
       "      <td>0.627672</td>\n",
       "      <td>0.041523</td>\n",
       "      <td>0.093794</td>\n",
       "      <td>Not Provided</td>\n",
       "      <td>CAT C</td>\n",
       "      <td>520</td>\n",
       "      <td>0.023867</td>\n",
       "    </tr>\n",
       "    <tr>\n",
       "      <th>48</th>\n",
       "      <td>0.310086</td>\n",
       "      <td>0.483839</td>\n",
       "      <td>0.576672</td>\n",
       "      <td>0.050494</td>\n",
       "      <td>0.115554</td>\n",
       "      <td>No Parking</td>\n",
       "      <td>CAT A</td>\n",
       "      <td>870</td>\n",
       "      <td>0.032847</td>\n",
       "    </tr>\n",
       "    <tr>\n",
       "      <th>49</th>\n",
       "      <td>0.398303</td>\n",
       "      <td>0.526080</td>\n",
       "      <td>0.456899</td>\n",
       "      <td>0.064403</td>\n",
       "      <td>0.148075</td>\n",
       "      <td>Not Provided</td>\n",
       "      <td>CAT A</td>\n",
       "      <td>660</td>\n",
       "      <td>0.044713</td>\n",
       "    </tr>\n",
       "  </tbody>\n",
       "</table>\n",
       "</div>"
      ],
      "text/plain": [
       "    Taxi_dist  Market_dist  Hospital_dist  Carpet_area  Builtup_area  \\\n",
       "0    0.474107     0.250656       0.459475     0.068272      0.154046   \n",
       "1    0.401413     0.390833       0.544947     0.060123      0.137628   \n",
       "2    0.532427     0.687467       0.729415     0.055144      0.126394   \n",
       "3    0.401752     0.534161       0.527561     0.059712      0.137313   \n",
       "4    0.508663     0.602960       0.597622     0.072840      0.165829   \n",
       "5    0.322573     0.245500       0.428093     0.059342      0.136135   \n",
       "6    0.636579     0.566675       0.764617     0.063457      0.145954   \n",
       "7    0.284677     0.474958       0.571606     0.051893      0.118382   \n",
       "8    0.362743     0.553306       0.573968     0.044856      0.103771   \n",
       "9    0.398461     0.337407       0.489396     0.042387      0.097015   \n",
       "10   0.207047     0.508284       0.353868     0.048848      0.113040   \n",
       "11   0.390378     0.532299       0.555336     0.072058      0.164808   \n",
       "12   0.372326     0.435904       0.630377     0.071852      0.162137   \n",
       "13   0.253412     0.518167       0.560402     0.066461      0.151689   \n",
       "14   0.291695     0.320220       0.436851     0.060453      0.137942   \n",
       "15   0.466944     0.706087       0.550013     0.067654      0.153181   \n",
       "16   0.536202     0.625543       0.561346     0.064938      0.149804   \n",
       "17   0.324170     0.549964       0.577016     0.070082      0.160644   \n",
       "18   0.465057     0.432848       0.571134     0.059177      0.135978   \n",
       "19   0.300503     0.374266       0.457629     0.075597      0.141000   \n",
       "20   0.394686     0.386011       0.422298     0.079835      0.183818   \n",
       "21   0.467961     0.591311       0.583369     0.058477      0.133543   \n",
       "22   0.562046     0.557412       0.664377     0.060000      0.137156   \n",
       "23   0.516117     0.676104       0.647205     0.070741      0.162215   \n",
       "24   0.353741     0.356553       0.491972     0.059630      0.137628   \n",
       "25   0.343771     0.469420       0.469778     0.050782      0.116889   \n",
       "26   0.320153     0.390451       0.549669     0.071276      0.162844   \n",
       "27   0.526087     0.574839       0.653430     0.060700      0.139592   \n",
       "28   0.347788     0.401050       0.478707     0.050453      0.141000   \n",
       "29   0.567951     0.510241       0.727827     0.057202      0.129458   \n",
       "30   0.650518     0.661351       0.772259     0.067572      0.152632   \n",
       "31   0.429581     0.638434       0.680218     0.070576      0.162687   \n",
       "32   0.196786     0.444879       0.436121     0.059218      0.137156   \n",
       "33   0.399187     0.404106       0.484760     0.051440      0.118460   \n",
       "34   0.479334     0.566531       0.625311     0.054774      0.126316   \n",
       "35   0.315846     0.376032       0.481454     0.073416      0.169914   \n",
       "36   0.298422     0.462163       0.518546     0.056584      0.129458   \n",
       "37   0.245088     0.504798       0.420537     0.076996      0.175177   \n",
       "38   0.324848     0.493722       0.670945     0.059342      0.136999   \n",
       "39   0.402526     0.634328       0.548854     0.048313      0.110841   \n",
       "40   0.377311     0.816472       0.695115     0.075679      0.173134   \n",
       "41   0.443858     0.399523       0.539452     0.052263      0.119089   \n",
       "42   0.412593     0.551110       0.583369     0.049753      0.141000   \n",
       "43   0.452860     0.553068       0.610415     0.059053      0.135507   \n",
       "44   0.392072     0.533588       0.579634     0.039712      0.090495   \n",
       "45   0.425612     0.582430       0.612819     0.068519      0.157188   \n",
       "46   0.291211     0.675436       0.542715     0.073251      0.166300   \n",
       "47   0.545204     0.620625       0.627672     0.041523      0.093794   \n",
       "48   0.310086     0.483839       0.576672     0.050494      0.115554   \n",
       "49   0.398303     0.526080       0.456899     0.064403      0.148075   \n",
       "\n",
       "    Parking_type City_type  Rainfall  Price_house  \n",
       "0           Open     CAT B       530     0.044327  \n",
       "1   Not Provided     CAT B       210     0.026547  \n",
       "2   Not Provided     CAT A       720     0.036007  \n",
       "3        Covered     CAT B       620     0.035820  \n",
       "4   Not Provided     CAT B       450     0.031080  \n",
       "5           Open     CAT B       760     0.030173  \n",
       "6     No Parking     CAT A      1030     0.048160  \n",
       "7           Open     CAT C      1020     0.025147  \n",
       "8   Not Provided     CAT B       680     0.030873  \n",
       "9           Open     CAT C      1130     0.029433  \n",
       "10       Covered     CAT A      1090     0.047520  \n",
       "11    No Parking     CAT B       720     0.038413  \n",
       "12          Open     CAT B      1050     0.040313  \n",
       "13       Covered     CAT B      1160     0.039420  \n",
       "14          Open     CAT B       770     0.044240  \n",
       "15       Covered     CAT A       790     0.052580  \n",
       "16          Open     CAT A      1440     0.051500  \n",
       "17       Covered     CAT B       670     0.025447  \n",
       "18          Open     CAT A      1030     0.042360  \n",
       "19          Open     CAT B       790     0.032813  \n",
       "20       Covered     CAT C       980     0.026793  \n",
       "21    No Parking     CAT C       370     0.028973  \n",
       "22          Open     CAT A       690     0.045927  \n",
       "23       Covered     CAT B       950     0.035187  \n",
       "24  Not Provided     CAT B       620     0.033787  \n",
       "25    No Parking     CAT B       840     0.027920  \n",
       "26  Not Provided     CAT C       820     0.046700  \n",
       "27          Open     CAT C      1100     0.017213  \n",
       "28          Open     CAT C       760     0.031773  \n",
       "29    No Parking     CAT B       980     0.040353  \n",
       "30    No Parking     CAT B       710     0.052067  \n",
       "31          Open     CAT B       650     0.056573  \n",
       "32          Open     CAT A       990     0.053427  \n",
       "33          Open     CAT C       990     0.009947  \n",
       "34          Open     CAT B       880     0.040307  \n",
       "35       Covered     CAT B       620     0.049707  \n",
       "36  Not Provided     CAT A      1020     0.048287  \n",
       "37       Covered     CAT B       700     0.030307  \n",
       "38  Not Provided     CAT C       610     0.027713  \n",
       "39       Covered     CAT A      1080     0.041913  \n",
       "40    No Parking     CAT B      1010     0.036780  \n",
       "41  Not Provided     CAT B         0     0.030320  \n",
       "42          Open     CAT A      1200     0.040273  \n",
       "43          Open     CAT C      1250     0.033033  \n",
       "44  Not Provided     CAT C       600     0.032093  \n",
       "45    No Parking     CAT A       730     0.045093  \n",
       "46          Open     CAT C       780     0.026487  \n",
       "47  Not Provided     CAT C       520     0.023867  \n",
       "48    No Parking     CAT A       870     0.032847  \n",
       "49  Not Provided     CAT A       660     0.044713  "
      ]
     },
     "execution_count": 16,
     "metadata": {},
     "output_type": "execute_result"
    }
   ],
   "source": [
    "df.head(50)"
   ]
  },
  {
   "cell_type": "code",
   "execution_count": 20,
   "metadata": {},
   "outputs": [],
   "source": [
    "import matplotlib.pyplot as plt\n",
    "from matplotlib import pyplot\n",
    "%matplotlib inline"
   ]
  },
  {
   "cell_type": "code",
   "execution_count": 21,
   "metadata": {},
   "outputs": [
    {
     "data": {
      "text/plain": [
       "array([0.07321288, 0.38214192, 0.69107096, 1.        ])"
      ]
     },
     "execution_count": 21,
     "metadata": {},
     "output_type": "execute_result"
    }
   ],
   "source": [
    "bins=np.linspace(min(df['Builtup_area']),max(df['Builtup_area']), 4)\n",
    "bins"
   ]
  },
  {
   "cell_type": "code",
   "execution_count": 22,
   "metadata": {},
   "outputs": [],
   "source": [
    "group_names=['Close','Medium','Far']"
   ]
  },
  {
   "cell_type": "code",
   "execution_count": 23,
   "metadata": {},
   "outputs": [
    {
     "data": {
      "text/html": [
       "<div>\n",
       "<style scoped>\n",
       "    .dataframe tbody tr th:only-of-type {\n",
       "        vertical-align: middle;\n",
       "    }\n",
       "\n",
       "    .dataframe tbody tr th {\n",
       "        vertical-align: top;\n",
       "    }\n",
       "\n",
       "    .dataframe thead th {\n",
       "        text-align: right;\n",
       "    }\n",
       "</style>\n",
       "<table border=\"1\" class=\"dataframe\">\n",
       "  <thead>\n",
       "    <tr style=\"text-align: right;\">\n",
       "      <th></th>\n",
       "      <th>Builtup_area</th>\n",
       "      <th>Builtup_area_binned</th>\n",
       "    </tr>\n",
       "  </thead>\n",
       "  <tbody>\n",
       "    <tr>\n",
       "      <th>0</th>\n",
       "      <td>0.154046</td>\n",
       "      <td>Close</td>\n",
       "    </tr>\n",
       "    <tr>\n",
       "      <th>1</th>\n",
       "      <td>0.137628</td>\n",
       "      <td>Close</td>\n",
       "    </tr>\n",
       "    <tr>\n",
       "      <th>2</th>\n",
       "      <td>0.126394</td>\n",
       "      <td>Close</td>\n",
       "    </tr>\n",
       "    <tr>\n",
       "      <th>3</th>\n",
       "      <td>0.137313</td>\n",
       "      <td>Close</td>\n",
       "    </tr>\n",
       "    <tr>\n",
       "      <th>4</th>\n",
       "      <td>0.165829</td>\n",
       "      <td>Close</td>\n",
       "    </tr>\n",
       "    <tr>\n",
       "      <th>5</th>\n",
       "      <td>0.136135</td>\n",
       "      <td>Close</td>\n",
       "    </tr>\n",
       "    <tr>\n",
       "      <th>6</th>\n",
       "      <td>0.145954</td>\n",
       "      <td>Close</td>\n",
       "    </tr>\n",
       "    <tr>\n",
       "      <th>7</th>\n",
       "      <td>0.118382</td>\n",
       "      <td>Close</td>\n",
       "    </tr>\n",
       "    <tr>\n",
       "      <th>8</th>\n",
       "      <td>0.103771</td>\n",
       "      <td>Close</td>\n",
       "    </tr>\n",
       "    <tr>\n",
       "      <th>9</th>\n",
       "      <td>0.097015</td>\n",
       "      <td>Close</td>\n",
       "    </tr>\n",
       "    <tr>\n",
       "      <th>10</th>\n",
       "      <td>0.113040</td>\n",
       "      <td>Close</td>\n",
       "    </tr>\n",
       "    <tr>\n",
       "      <th>11</th>\n",
       "      <td>0.164808</td>\n",
       "      <td>Close</td>\n",
       "    </tr>\n",
       "    <tr>\n",
       "      <th>12</th>\n",
       "      <td>0.162137</td>\n",
       "      <td>Close</td>\n",
       "    </tr>\n",
       "    <tr>\n",
       "      <th>13</th>\n",
       "      <td>0.151689</td>\n",
       "      <td>Close</td>\n",
       "    </tr>\n",
       "    <tr>\n",
       "      <th>14</th>\n",
       "      <td>0.137942</td>\n",
       "      <td>Close</td>\n",
       "    </tr>\n",
       "    <tr>\n",
       "      <th>15</th>\n",
       "      <td>0.153181</td>\n",
       "      <td>Close</td>\n",
       "    </tr>\n",
       "    <tr>\n",
       "      <th>16</th>\n",
       "      <td>0.149804</td>\n",
       "      <td>Close</td>\n",
       "    </tr>\n",
       "    <tr>\n",
       "      <th>17</th>\n",
       "      <td>0.160644</td>\n",
       "      <td>Close</td>\n",
       "    </tr>\n",
       "    <tr>\n",
       "      <th>18</th>\n",
       "      <td>0.135978</td>\n",
       "      <td>Close</td>\n",
       "    </tr>\n",
       "    <tr>\n",
       "      <th>19</th>\n",
       "      <td>0.141000</td>\n",
       "      <td>Close</td>\n",
       "    </tr>\n",
       "  </tbody>\n",
       "</table>\n",
       "</div>"
      ],
      "text/plain": [
       "    Builtup_area Builtup_area_binned\n",
       "0       0.154046               Close\n",
       "1       0.137628               Close\n",
       "2       0.126394               Close\n",
       "3       0.137313               Close\n",
       "4       0.165829               Close\n",
       "5       0.136135               Close\n",
       "6       0.145954               Close\n",
       "7       0.118382               Close\n",
       "8       0.103771               Close\n",
       "9       0.097015               Close\n",
       "10      0.113040               Close\n",
       "11      0.164808               Close\n",
       "12      0.162137               Close\n",
       "13      0.151689               Close\n",
       "14      0.137942               Close\n",
       "15      0.153181               Close\n",
       "16      0.149804               Close\n",
       "17      0.160644               Close\n",
       "18      0.135978               Close\n",
       "19      0.141000               Close"
      ]
     },
     "execution_count": 23,
     "metadata": {},
     "output_type": "execute_result"
    }
   ],
   "source": [
    "df['Builtup_area_binned']=pd.cut(df['Builtup_area'],bins, labels=group_names,include_lowest=True)\n",
    "df[['Builtup_area','Builtup_area_binned']].head(20)"
   ]
  },
  {
   "cell_type": "code",
   "execution_count": 24,
   "metadata": {},
   "outputs": [
    {
     "data": {
      "text/plain": [
       "Close     931\n",
       "Far         1\n",
       "Medium      0\n",
       "Name: Builtup_area_binned, dtype: int64"
      ]
     },
     "execution_count": 24,
     "metadata": {},
     "output_type": "execute_result"
    }
   ],
   "source": [
    "df['Builtup_area_binned'].value_counts()"
   ]
  },
  {
   "cell_type": "code",
   "execution_count": 25,
   "metadata": {},
   "outputs": [
    {
     "data": {
      "text/plain": [
       "Text(0.5, 1.0, 'Builtup_area bins')"
      ]
     },
     "execution_count": 25,
     "metadata": {},
     "output_type": "execute_result"
    },
    {
     "data": {
      "image/png": "[encoded data removed]",
      "text/plain": [
       "<Figure size 432x288 with 1 Axes>"
      ]
     },
     "metadata": {
      "needs_background": "light"
     },
     "output_type": "display_data"
    }
   ],
   "source": [
    "plt.bar(group_names,df['Builtup_area_binned'].value_counts())\n",
    "plt.xlabel('Builtup_area')\n",
    "plt.ylabel('Count')\n",
    "plt.title('Builtup_area bins')"
   ]
  },
  {
   "cell_type": "markdown",
   "metadata": {},
   "source": [
    "**Exploratory Data Analysis**"
   ]
  },
  {
   "cell_type": "code",
   "execution_count": 26,
   "metadata": {},
   "outputs": [],
   "source": [
    "import seaborn as sns"
   ]
  },
  {
   "cell_type": "code",
   "execution_count": 27,
   "metadata": {},
   "outputs": [
    {
     "data": {
      "text/html": [
       "<div>\n",
       "<style scoped>\n",
       "    .dataframe tbody tr th:only-of-type {\n",
       "        vertical-align: middle;\n",
       "    }\n",
       "\n",
       "    .dataframe tbody tr th {\n",
       "        vertical-align: top;\n",
       "    }\n",
       "\n",
       "    .dataframe thead th {\n",
       "        text-align: right;\n",
       "    }\n",
       "</style>\n",
       "<table border=\"1\" class=\"dataframe\">\n",
       "  <thead>\n",
       "    <tr style=\"text-align: right;\">\n",
       "      <th></th>\n",
       "      <th>Taxi_dist</th>\n",
       "      <th>Market_dist</th>\n",
       "      <th>Hospital_dist</th>\n",
       "      <th>Carpet_area</th>\n",
       "      <th>Builtup_area</th>\n",
       "      <th>Rainfall</th>\n",
       "      <th>Price_house</th>\n",
       "    </tr>\n",
       "  </thead>\n",
       "  <tbody>\n",
       "    <tr>\n",
       "      <th>Taxi_dist</th>\n",
       "      <td>1.000000</td>\n",
       "      <td>0.460971</td>\n",
       "      <td>0.797003</td>\n",
       "      <td>0.155165</td>\n",
       "      <td>0.127587</td>\n",
       "      <td>0.026960</td>\n",
       "      <td>0.187345</td>\n",
       "    </tr>\n",
       "    <tr>\n",
       "      <th>Market_dist</th>\n",
       "      <td>0.460971</td>\n",
       "      <td>1.000000</td>\n",
       "      <td>0.623596</td>\n",
       "      <td>0.116425</td>\n",
       "      <td>0.086600</td>\n",
       "      <td>0.074028</td>\n",
       "      <td>0.161126</td>\n",
       "    </tr>\n",
       "    <tr>\n",
       "      <th>Hospital_dist</th>\n",
       "      <td>0.797003</td>\n",
       "      <td>0.623596</td>\n",
       "      <td>1.000000</td>\n",
       "      <td>0.126420</td>\n",
       "      <td>0.105460</td>\n",
       "      <td>0.055737</td>\n",
       "      <td>0.165963</td>\n",
       "    </tr>\n",
       "    <tr>\n",
       "      <th>Carpet_area</th>\n",
       "      <td>0.155165</td>\n",
       "      <td>0.116425</td>\n",
       "      <td>0.126420</td>\n",
       "      <td>1.000000</td>\n",
       "      <td>0.930610</td>\n",
       "      <td>0.026200</td>\n",
       "      <td>0.901857</td>\n",
       "    </tr>\n",
       "    <tr>\n",
       "      <th>Builtup_area</th>\n",
       "      <td>0.127587</td>\n",
       "      <td>0.086600</td>\n",
       "      <td>0.105460</td>\n",
       "      <td>0.930610</td>\n",
       "      <td>1.000000</td>\n",
       "      <td>0.006231</td>\n",
       "      <td>0.745483</td>\n",
       "    </tr>\n",
       "    <tr>\n",
       "      <th>Rainfall</th>\n",
       "      <td>0.026960</td>\n",
       "      <td>0.074028</td>\n",
       "      <td>0.055737</td>\n",
       "      <td>0.026200</td>\n",
       "      <td>0.006231</td>\n",
       "      <td>1.000000</td>\n",
       "      <td>0.044552</td>\n",
       "    </tr>\n",
       "    <tr>\n",
       "      <th>Price_house</th>\n",
       "      <td>0.187345</td>\n",
       "      <td>0.161126</td>\n",
       "      <td>0.165963</td>\n",
       "      <td>0.901857</td>\n",
       "      <td>0.745483</td>\n",
       "      <td>0.044552</td>\n",
       "      <td>1.000000</td>\n",
       "    </tr>\n",
       "  </tbody>\n",
       "</table>\n",
       "</div>"
      ],
      "text/plain": [
       "               Taxi_dist  Market_dist  Hospital_dist  Carpet_area  \\\n",
       "Taxi_dist       1.000000     0.460971       0.797003     0.155165   \n",
       "Market_dist     0.460971     1.000000       0.623596     0.116425   \n",
       "Hospital_dist   0.797003     0.623596       1.000000     0.126420   \n",
       "Carpet_area     0.155165     0.116425       0.126420     1.000000   \n",
       "Builtup_area    0.127587     0.086600       0.105460     0.930610   \n",
       "Rainfall        0.026960     0.074028       0.055737     0.026200   \n",
       "Price_house     0.187345     0.161126       0.165963     0.901857   \n",
       "\n",
       "               Builtup_area  Rainfall  Price_house  \n",
       "Taxi_dist          0.127587  0.026960     0.187345  \n",
       "Market_dist        0.086600  0.074028     0.161126  \n",
       "Hospital_dist      0.105460  0.055737     0.165963  \n",
       "Carpet_area        0.930610  0.026200     0.901857  \n",
       "Builtup_area       1.000000  0.006231     0.745483  \n",
       "Rainfall           0.006231  1.000000     0.044552  \n",
       "Price_house        0.745483  0.044552     1.000000  "
      ]
     },
     "execution_count": 27,
     "metadata": {},
     "output_type": "execute_result"
    }
   ],
   "source": [
    "df.corr()"
   ]
  },
  {
   "cell_type": "code",
   "execution_count": 28,
   "metadata": {},
   "outputs": [
    {
     "data": {
      "image/png": "[encoded data removed]",
      "text/plain": [
       "<Figure size 432x288 with 1 Axes>"
      ]
     },
     "metadata": {
      "needs_background": "light"
     },
     "output_type": "display_data"
    }
   ],
   "source": [
    "sns.regplot(x='Taxi_dist',y='Price_house',data=df)\n",
    "plt.ylim(0,)\n",
    "plt.title('Taxi_dist vs Price_house')\n",
    "plt.grid()"
   ]
  },
  {
   "cell_type": "code",
   "execution_count": 29,
   "metadata": {},
   "outputs": [
    {
     "data": {
      "text/html": [
       "<div>\n",
       "<style scoped>\n",
       "    .dataframe tbody tr th:only-of-type {\n",
       "        vertical-align: middle;\n",
       "    }\n",
       "\n",
       "    .dataframe tbody tr th {\n",
       "        vertical-align: top;\n",
       "    }\n",
       "\n",
       "    .dataframe thead th {\n",
       "        text-align: right;\n",
       "    }\n",
       "</style>\n",
       "<table border=\"1\" class=\"dataframe\">\n",
       "  <thead>\n",
       "    <tr style=\"text-align: right;\">\n",
       "      <th></th>\n",
       "      <th>Taxi_dist</th>\n",
       "      <th>Price_house</th>\n",
       "    </tr>\n",
       "  </thead>\n",
       "  <tbody>\n",
       "    <tr>\n",
       "      <th>Taxi_dist</th>\n",
       "      <td>1.000000</td>\n",
       "      <td>0.187345</td>\n",
       "    </tr>\n",
       "    <tr>\n",
       "      <th>Price_house</th>\n",
       "      <td>0.187345</td>\n",
       "      <td>1.000000</td>\n",
       "    </tr>\n",
       "  </tbody>\n",
       "</table>\n",
       "</div>"
      ],
      "text/plain": [
       "             Taxi_dist  Price_house\n",
       "Taxi_dist     1.000000     0.187345\n",
       "Price_house   0.187345     1.000000"
      ]
     },
     "execution_count": 29,
     "metadata": {},
     "output_type": "execute_result"
    }
   ],
   "source": [
    "df[['Taxi_dist','Price_house']].corr()"
   ]
  },
  {
   "cell_type": "code",
   "execution_count": 30,
   "metadata": {},
   "outputs": [
    {
     "data": {
      "image/png": "[encoded data removed]",
      "text/plain": [
       "<Figure size 432x288 with 1 Axes>"
      ]
     },
     "metadata": {
      "needs_background": "light"
     },
     "output_type": "display_data"
    }
   ],
   "source": [
    "sns.regplot(x='Market_dist',y='Price_house',data=df)\n",
    "plt.ylim(0,)\n",
    "plt.title('Market_dist vs Price_house')\n",
    "plt.grid()"
   ]
  },
  {
   "cell_type": "code",
   "execution_count": 31,
   "metadata": {},
   "outputs": [
    {
     "data": {
      "text/html": [
       "<div>\n",
       "<style scoped>\n",
       "    .dataframe tbody tr th:only-of-type {\n",
       "        vertical-align: middle;\n",
       "    }\n",
       "\n",
       "    .dataframe tbody tr th {\n",
       "        vertical-align: top;\n",
       "    }\n",
       "\n",
       "    .dataframe thead th {\n",
       "        text-align: right;\n",
       "    }\n",
       "</style>\n",
       "<table border=\"1\" class=\"dataframe\">\n",
       "  <thead>\n",
       "    <tr style=\"text-align: right;\">\n",
       "      <th></th>\n",
       "      <th>Market_dist</th>\n",
       "      <th>Price_house</th>\n",
       "    </tr>\n",
       "  </thead>\n",
       "  <tbody>\n",
       "    <tr>\n",
       "      <th>Market_dist</th>\n",
       "      <td>1.000000</td>\n",
       "      <td>0.161126</td>\n",
       "    </tr>\n",
       "    <tr>\n",
       "      <th>Price_house</th>\n",
       "      <td>0.161126</td>\n",
       "      <td>1.000000</td>\n",
       "    </tr>\n",
       "  </tbody>\n",
       "</table>\n",
       "</div>"
      ],
      "text/plain": [
       "             Market_dist  Price_house\n",
       "Market_dist     1.000000     0.161126\n",
       "Price_house     0.161126     1.000000"
      ]
     },
     "execution_count": 31,
     "metadata": {},
     "output_type": "execute_result"
    }
   ],
   "source": [
    "df[['Market_dist','Price_house']].corr()"
   ]
  },
  {
   "cell_type": "code",
   "execution_count": 32,
   "metadata": {},
   "outputs": [
    {
     "data": {
      "image/png": "[encoded data removed]",
      "text/plain": [
       "<Figure size 432x288 with 1 Axes>"
      ]
     },
     "metadata": {
      "needs_background": "light"
     },
     "output_type": "display_data"
    }
   ],
   "source": [
    "sns.regplot(x='Hospital_dist',y='Price_house',data=df)\n",
    "plt.ylim(0,)\n",
    "plt.title('Hospital_dist vs Price_house')\n",
    "plt.grid()"
   ]
  },
  {
   "cell_type": "code",
   "execution_count": 33,
   "metadata": {},
   "outputs": [
    {
     "data": {
      "text/html": [
       "<div>\n",
       "<style scoped>\n",
       "    .dataframe tbody tr th:only-of-type {\n",
       "        vertical-align: middle;\n",
       "    }\n",
       "\n",
       "    .dataframe tbody tr th {\n",
       "        vertical-align: top;\n",
       "    }\n",
       "\n",
       "    .dataframe thead th {\n",
       "        text-align: right;\n",
       "    }\n",
       "</style>\n",
       "<table border=\"1\" class=\"dataframe\">\n",
       "  <thead>\n",
       "    <tr style=\"text-align: right;\">\n",
       "      <th></th>\n",
       "      <th>Hospital_dist</th>\n",
       "      <th>Price_house</th>\n",
       "    </tr>\n",
       "  </thead>\n",
       "  <tbody>\n",
       "    <tr>\n",
       "      <th>Hospital_dist</th>\n",
       "      <td>1.000000</td>\n",
       "      <td>0.165963</td>\n",
       "    </tr>\n",
       "    <tr>\n",
       "      <th>Price_house</th>\n",
       "      <td>0.165963</td>\n",
       "      <td>1.000000</td>\n",
       "    </tr>\n",
       "  </tbody>\n",
       "</table>\n",
       "</div>"
      ],
      "text/plain": [
       "               Hospital_dist  Price_house\n",
       "Hospital_dist       1.000000     0.165963\n",
       "Price_house         0.165963     1.000000"
      ]
     },
     "execution_count": 33,
     "metadata": {},
     "output_type": "execute_result"
    }
   ],
   "source": [
    "df[['Hospital_dist','Price_house']].corr()"
   ]
  },
  {
   "cell_type": "code",
   "execution_count": 34,
   "metadata": {},
   "outputs": [
    {
     "data": {
      "image/png": "[encoded data removed]",
      "text/plain": [
       "<Figure size 432x288 with 1 Axes>"
      ]
     },
     "metadata": {
      "needs_background": "light"
     },
     "output_type": "display_data"
    }
   ],
   "source": [
    "sns.regplot(x='Carpet_area',y='Price_house',data=df)\n",
    "plt.ylim(0,)\n",
    "plt.title('Carpet_area vs Price_house')\n",
    "plt.grid()"
   ]
  },
  {
   "cell_type": "code",
   "execution_count": 35,
   "metadata": {},
   "outputs": [
    {
     "data": {
      "text/html": [
       "<div>\n",
       "<style scoped>\n",
       "    .dataframe tbody tr th:only-of-type {\n",
       "        vertical-align: middle;\n",
       "    }\n",
       "\n",
       "    .dataframe tbody tr th {\n",
       "        vertical-align: top;\n",
       "    }\n",
       "\n",
       "    .dataframe thead th {\n",
       "        text-align: right;\n",
       "    }\n",
       "</style>\n",
       "<table border=\"1\" class=\"dataframe\">\n",
       "  <thead>\n",
       "    <tr style=\"text-align: right;\">\n",
       "      <th></th>\n",
       "      <th>Carpet_area</th>\n",
       "      <th>Price_house</th>\n",
       "    </tr>\n",
       "  </thead>\n",
       "  <tbody>\n",
       "    <tr>\n",
       "      <th>Carpet_area</th>\n",
       "      <td>1.000000</td>\n",
       "      <td>0.901857</td>\n",
       "    </tr>\n",
       "    <tr>\n",
       "      <th>Price_house</th>\n",
       "      <td>0.901857</td>\n",
       "      <td>1.000000</td>\n",
       "    </tr>\n",
       "  </tbody>\n",
       "</table>\n",
       "</div>"
      ],
      "text/plain": [
       "             Carpet_area  Price_house\n",
       "Carpet_area     1.000000     0.901857\n",
       "Price_house     0.901857     1.000000"
      ]
     },
     "execution_count": 35,
     "metadata": {},
     "output_type": "execute_result"
    }
   ],
   "source": [
    "df[['Carpet_area','Price_house']].corr()"
   ]
  },
  {
   "cell_type": "code",
   "execution_count": 36,
   "metadata": {},
   "outputs": [
    {
     "data": {
      "image/png": "[encoded data removed]",
      "text/plain": [
       "<Figure size 432x288 with 1 Axes>"
      ]
     },
     "metadata": {
      "needs_background": "light"
     },
     "output_type": "display_data"
    }
   ],
   "source": [
    "sns.regplot(x='Builtup_area',y='Price_house',data=df)\n",
    "plt.ylim(0,)\n",
    "plt.title('Builtup_area vs Price_house')\n",
    "plt.grid()"
   ]
  },
  {
   "cell_type": "code",
   "execution_count": 37,
   "metadata": {},
   "outputs": [
    {
     "data": {
      "text/html": [
       "<div>\n",
       "<style scoped>\n",
       "    .dataframe tbody tr th:only-of-type {\n",
       "        vertical-align: middle;\n",
       "    }\n",
       "\n",
       "    .dataframe tbody tr th {\n",
       "        vertical-align: top;\n",
       "    }\n",
       "\n",
       "    .dataframe thead th {\n",
       "        text-align: right;\n",
       "    }\n",
       "</style>\n",
       "<table border=\"1\" class=\"dataframe\">\n",
       "  <thead>\n",
       "    <tr style=\"text-align: right;\">\n",
       "      <th></th>\n",
       "      <th>Builtup_area</th>\n",
       "      <th>Price_house</th>\n",
       "    </tr>\n",
       "  </thead>\n",
       "  <tbody>\n",
       "    <tr>\n",
       "      <th>Builtup_area</th>\n",
       "      <td>1.000000</td>\n",
       "      <td>0.745483</td>\n",
       "    </tr>\n",
       "    <tr>\n",
       "      <th>Price_house</th>\n",
       "      <td>0.745483</td>\n",
       "      <td>1.000000</td>\n",
       "    </tr>\n",
       "  </tbody>\n",
       "</table>\n",
       "</div>"
      ],
      "text/plain": [
       "              Builtup_area  Price_house\n",
       "Builtup_area      1.000000     0.745483\n",
       "Price_house       0.745483     1.000000"
      ]
     },
     "execution_count": 37,
     "metadata": {},
     "output_type": "execute_result"
    }
   ],
   "source": [
    "df[['Builtup_area','Price_house']].corr()"
   ]
  },
  {
   "cell_type": "code",
   "execution_count": 38,
   "metadata": {},
   "outputs": [
    {
     "data": {
      "text/html": [
       "<div>\n",
       "<style scoped>\n",
       "    .dataframe tbody tr th:only-of-type {\n",
       "        vertical-align: middle;\n",
       "    }\n",
       "\n",
       "    .dataframe tbody tr th {\n",
       "        vertical-align: top;\n",
       "    }\n",
       "\n",
       "    .dataframe thead th {\n",
       "        text-align: right;\n",
       "    }\n",
       "</style>\n",
       "<table border=\"1\" class=\"dataframe\">\n",
       "  <thead>\n",
       "    <tr style=\"text-align: right;\">\n",
       "      <th></th>\n",
       "      <th>Taxi_dist</th>\n",
       "      <th>Market_dist</th>\n",
       "      <th>Hospital_dist</th>\n",
       "      <th>Carpet_area</th>\n",
       "      <th>Builtup_area</th>\n",
       "      <th>Rainfall</th>\n",
       "      <th>Price_house</th>\n",
       "    </tr>\n",
       "  </thead>\n",
       "  <tbody>\n",
       "    <tr>\n",
       "      <th>count</th>\n",
       "      <td>932.000000</td>\n",
       "      <td>932.000000</td>\n",
       "      <td>932.000000</td>\n",
       "      <td>932.000000</td>\n",
       "      <td>932.000000</td>\n",
       "      <td>932.000000</td>\n",
       "      <td>932.000000</td>\n",
       "    </tr>\n",
       "    <tr>\n",
       "      <th>mean</th>\n",
       "      <td>0.398303</td>\n",
       "      <td>0.526080</td>\n",
       "      <td>0.561179</td>\n",
       "      <td>0.062217</td>\n",
       "      <td>0.141000</td>\n",
       "      <td>785.579399</td>\n",
       "      <td>0.040565</td>\n",
       "    </tr>\n",
       "    <tr>\n",
       "      <th>std</th>\n",
       "      <td>0.123126</td>\n",
       "      <td>0.120606</td>\n",
       "      <td>0.110976</td>\n",
       "      <td>0.032410</td>\n",
       "      <td>0.036479</td>\n",
       "      <td>265.546853</td>\n",
       "      <td>0.033502</td>\n",
       "    </tr>\n",
       "    <tr>\n",
       "      <th>min</th>\n",
       "      <td>0.007066</td>\n",
       "      <td>0.079542</td>\n",
       "      <td>0.138534</td>\n",
       "      <td>0.031893</td>\n",
       "      <td>0.073213</td>\n",
       "      <td>-110.000000</td>\n",
       "      <td>0.000200</td>\n",
       "    </tr>\n",
       "    <tr>\n",
       "      <th>25%</th>\n",
       "      <td>0.314394</td>\n",
       "      <td>0.447446</td>\n",
       "      <td>0.485179</td>\n",
       "      <td>0.054311</td>\n",
       "      <td>0.124647</td>\n",
       "      <td>600.000000</td>\n",
       "      <td>0.031053</td>\n",
       "    </tr>\n",
       "    <tr>\n",
       "      <th>50%</th>\n",
       "      <td>0.398303</td>\n",
       "      <td>0.530532</td>\n",
       "      <td>0.564716</td>\n",
       "      <td>0.061070</td>\n",
       "      <td>0.139631</td>\n",
       "      <td>780.000000</td>\n",
       "      <td>0.039107</td>\n",
       "    </tr>\n",
       "    <tr>\n",
       "      <th>75%</th>\n",
       "      <td>0.480048</td>\n",
       "      <td>0.604106</td>\n",
       "      <td>0.635507</td>\n",
       "      <td>0.067994</td>\n",
       "      <td>0.155499</td>\n",
       "      <td>970.000000</td>\n",
       "      <td>0.047915</td>\n",
       "    </tr>\n",
       "    <tr>\n",
       "      <th>max</th>\n",
       "      <td>1.000000</td>\n",
       "      <td>1.000000</td>\n",
       "      <td>1.000000</td>\n",
       "      <td>1.000000</td>\n",
       "      <td>1.000000</td>\n",
       "      <td>1560.000000</td>\n",
       "      <td>1.000000</td>\n",
       "    </tr>\n",
       "  </tbody>\n",
       "</table>\n",
       "</div>"
      ],
      "text/plain": [
       "        Taxi_dist  Market_dist  Hospital_dist  Carpet_area  Builtup_area  \\\n",
       "count  932.000000   932.000000     932.000000   932.000000    932.000000   \n",
       "mean     0.398303     0.526080       0.561179     0.062217      0.141000   \n",
       "std      0.123126     0.120606       0.110976     0.032410      0.036479   \n",
       "min      0.007066     0.079542       0.138534     0.031893      0.073213   \n",
       "25%      0.314394     0.447446       0.485179     0.054311      0.124647   \n",
       "50%      0.398303     0.530532       0.564716     0.061070      0.139631   \n",
       "75%      0.480048     0.604106       0.635507     0.067994      0.155499   \n",
       "max      1.000000     1.000000       1.000000     1.000000      1.000000   \n",
       "\n",
       "          Rainfall  Price_house  \n",
       "count   932.000000   932.000000  \n",
       "mean    785.579399     0.040565  \n",
       "std     265.546853     0.033502  \n",
       "min    -110.000000     0.000200  \n",
       "25%     600.000000     0.031053  \n",
       "50%     780.000000     0.039107  \n",
       "75%     970.000000     0.047915  \n",
       "max    1560.000000     1.000000  "
      ]
     },
     "execution_count": 38,
     "metadata": {},
     "output_type": "execute_result"
    }
   ],
   "source": [
    "df.describe()"
   ]
  },
  {
   "cell_type": "code",
   "execution_count": 39,
   "metadata": {},
   "outputs": [
    {
     "data": {
      "text/html": [
       "<div>\n",
       "<style scoped>\n",
       "    .dataframe tbody tr th:only-of-type {\n",
       "        vertical-align: middle;\n",
       "    }\n",
       "\n",
       "    .dataframe tbody tr th {\n",
       "        vertical-align: top;\n",
       "    }\n",
       "\n",
       "    .dataframe thead th {\n",
       "        text-align: right;\n",
       "    }\n",
       "</style>\n",
       "<table border=\"1\" class=\"dataframe\">\n",
       "  <thead>\n",
       "    <tr style=\"text-align: right;\">\n",
       "      <th></th>\n",
       "      <th>Parking_type</th>\n",
       "      <th>City_type</th>\n",
       "      <th>Price_house</th>\n",
       "    </tr>\n",
       "  </thead>\n",
       "  <tbody>\n",
       "    <tr>\n",
       "      <th>0</th>\n",
       "      <td>Covered</td>\n",
       "      <td>CAT A</td>\n",
       "      <td>0.051365</td>\n",
       "    </tr>\n",
       "    <tr>\n",
       "      <th>1</th>\n",
       "      <td>Covered</td>\n",
       "      <td>CAT B</td>\n",
       "      <td>0.053780</td>\n",
       "    </tr>\n",
       "    <tr>\n",
       "      <th>2</th>\n",
       "      <td>Covered</td>\n",
       "      <td>CAT C</td>\n",
       "      <td>0.032110</td>\n",
       "    </tr>\n",
       "    <tr>\n",
       "      <th>3</th>\n",
       "      <td>No Parking</td>\n",
       "      <td>CAT A</td>\n",
       "      <td>0.048000</td>\n",
       "    </tr>\n",
       "    <tr>\n",
       "      <th>4</th>\n",
       "      <td>No Parking</td>\n",
       "      <td>CAT B</td>\n",
       "      <td>0.035348</td>\n",
       "    </tr>\n",
       "    <tr>\n",
       "      <th>5</th>\n",
       "      <td>No Parking</td>\n",
       "      <td>CAT C</td>\n",
       "      <td>0.028977</td>\n",
       "    </tr>\n",
       "    <tr>\n",
       "      <th>6</th>\n",
       "      <td>Not Provided</td>\n",
       "      <td>CAT A</td>\n",
       "      <td>0.048011</td>\n",
       "    </tr>\n",
       "    <tr>\n",
       "      <th>7</th>\n",
       "      <td>Not Provided</td>\n",
       "      <td>CAT B</td>\n",
       "      <td>0.035476</td>\n",
       "    </tr>\n",
       "    <tr>\n",
       "      <th>8</th>\n",
       "      <td>Not Provided</td>\n",
       "      <td>CAT C</td>\n",
       "      <td>0.029372</td>\n",
       "    </tr>\n",
       "    <tr>\n",
       "      <th>9</th>\n",
       "      <td>Open</td>\n",
       "      <td>CAT A</td>\n",
       "      <td>0.049530</td>\n",
       "    </tr>\n",
       "    <tr>\n",
       "      <th>10</th>\n",
       "      <td>Open</td>\n",
       "      <td>CAT B</td>\n",
       "      <td>0.037299</td>\n",
       "    </tr>\n",
       "    <tr>\n",
       "      <th>11</th>\n",
       "      <td>Open</td>\n",
       "      <td>CAT C</td>\n",
       "      <td>0.030069</td>\n",
       "    </tr>\n",
       "  </tbody>\n",
       "</table>\n",
       "</div>"
      ],
      "text/plain": [
       "    Parking_type City_type  Price_house\n",
       "0        Covered     CAT A     0.051365\n",
       "1        Covered     CAT B     0.053780\n",
       "2        Covered     CAT C     0.032110\n",
       "3     No Parking     CAT A     0.048000\n",
       "4     No Parking     CAT B     0.035348\n",
       "5     No Parking     CAT C     0.028977\n",
       "6   Not Provided     CAT A     0.048011\n",
       "7   Not Provided     CAT B     0.035476\n",
       "8   Not Provided     CAT C     0.029372\n",
       "9           Open     CAT A     0.049530\n",
       "10          Open     CAT B     0.037299\n",
       "11          Open     CAT C     0.030069"
      ]
     },
     "execution_count": 39,
     "metadata": {},
     "output_type": "execute_result"
    }
   ],
   "source": [
    "df1=df[['Parking_type','City_type','Price_house']]\n",
    "group_test=df1.groupby(['Parking_type','City_type'],as_index=False).mean()\n",
    "group_test"
   ]
  },
  {
   "cell_type": "code",
   "execution_count": 40,
   "metadata": {},
   "outputs": [
    {
     "data": {
      "text/html": [
       "<div>\n",
       "<style scoped>\n",
       "    .dataframe tbody tr th:only-of-type {\n",
       "        vertical-align: middle;\n",
       "    }\n",
       "\n",
       "    .dataframe tbody tr th {\n",
       "        vertical-align: top;\n",
       "    }\n",
       "\n",
       "    .dataframe thead tr th {\n",
       "        text-align: left;\n",
       "    }\n",
       "\n",
       "    .dataframe thead tr:last-of-type th {\n",
       "        text-align: right;\n",
       "    }\n",
       "</style>\n",
       "<table border=\"1\" class=\"dataframe\">\n",
       "  <thead>\n",
       "    <tr>\n",
       "      <th></th>\n",
       "      <th colspan=\"3\" halign=\"left\">Price_house</th>\n",
       "    </tr>\n",
       "    <tr>\n",
       "      <th>City_type</th>\n",
       "      <th>CAT A</th>\n",
       "      <th>CAT B</th>\n",
       "      <th>CAT C</th>\n",
       "    </tr>\n",
       "    <tr>\n",
       "      <th>Parking_type</th>\n",
       "      <th></th>\n",
       "      <th></th>\n",
       "      <th></th>\n",
       "    </tr>\n",
       "  </thead>\n",
       "  <tbody>\n",
       "    <tr>\n",
       "      <th>Covered</th>\n",
       "      <td>0.051365</td>\n",
       "      <td>0.053780</td>\n",
       "      <td>0.032110</td>\n",
       "    </tr>\n",
       "    <tr>\n",
       "      <th>No Parking</th>\n",
       "      <td>0.048000</td>\n",
       "      <td>0.035348</td>\n",
       "      <td>0.028977</td>\n",
       "    </tr>\n",
       "    <tr>\n",
       "      <th>Not Provided</th>\n",
       "      <td>0.048011</td>\n",
       "      <td>0.035476</td>\n",
       "      <td>0.029372</td>\n",
       "    </tr>\n",
       "    <tr>\n",
       "      <th>Open</th>\n",
       "      <td>0.049530</td>\n",
       "      <td>0.037299</td>\n",
       "      <td>0.030069</td>\n",
       "    </tr>\n",
       "  </tbody>\n",
       "</table>\n",
       "</div>"
      ],
      "text/plain": [
       "             Price_house                    \n",
       "City_type          CAT A     CAT B     CAT C\n",
       "Parking_type                                \n",
       "Covered         0.051365  0.053780  0.032110\n",
       "No Parking      0.048000  0.035348  0.028977\n",
       "Not Provided    0.048011  0.035476  0.029372\n",
       "Open            0.049530  0.037299  0.030069"
      ]
     },
     "execution_count": 40,
     "metadata": {},
     "output_type": "execute_result"
    }
   ],
   "source": [
    "grouped_pivot = group_test.pivot(index='Parking_type',columns='City_type')\n",
    "grouped_pivot"
   ]
  },
  {
   "cell_type": "code",
   "execution_count": 44,
   "metadata": {},
   "outputs": [
    {
     "data": {
      "image/png": "[encoded data removed]",
      "text/plain": [
       "<Figure size 432x288 with 2 Axes>"
      ]
     },
     "metadata": {
      "needs_background": "light"
     },
     "output_type": "display_data"
    }
   ],
   "source": [
    "fig, ax = plt.subplots()\n",
    "im = ax.pcolor(grouped_pivot, cmap='RdBu')\n",
    "\n",
    "row_labels = grouped_pivot.columns.levels[1]\n",
    "col_labels = grouped_pivot.index\n",
    "\n",
    "ax.set_xticklabels(row_labels, minor=False)\n",
    "ax.set_yticklabels(col_labels, minor=False)\n",
    "\n",
    "plt.xticks(rotation=90)\n",
    "\n",
    "fig.colorbar(im)\n",
    "plt.show()"
   ]
  },
  {
   "cell_type": "code",
   "execution_count": 41,
   "metadata": {},
   "outputs": [],
   "source": [
    "from scipy import stats"
   ]
  },
  {
   "cell_type": "code",
   "execution_count": 42,
   "metadata": {},
   "outputs": [
    {
     "name": "stdout",
     "output_type": "stream",
     "text": [
      "The Pearson Correlation Coeeficient is: 0.18734540974385552 with a P_value: 8.271505479589251e-09\n"
     ]
    }
   ],
   "source": [
    "pearson_coef, p_value = stats.pearsonr(df['Taxi_dist'], df['Price_house'])\n",
    "print('The Pearson Correlation Coeeficient is:',pearson_coef,'with a P_value:',p_value)"
   ]
  },
  {
   "cell_type": "code",
   "execution_count": 43,
   "metadata": {},
   "outputs": [
    {
     "name": "stdout",
     "output_type": "stream",
     "text": [
      "The Pearson Correlation Coeeficient is: 0.9018566562915216 with a P_value: 0.0\n"
     ]
    }
   ],
   "source": [
    "pearson_coef, p_value = stats.pearsonr(df['Carpet_area'], df['Price_house'])\n",
    "print('The Pearson Correlation Coeeficient is:',pearson_coef,'with a P_value:',p_value)"
   ]
  },
  {
   "cell_type": "code",
   "execution_count": 44,
   "metadata": {},
   "outputs": [
    {
     "name": "stdout",
     "output_type": "stream",
     "text": [
      "The Pearson Correlation Coeeficient is: 0.7454825642177488 with a P_value: 4.94473254792264e-166\n"
     ]
    }
   ],
   "source": [
    "pearson_coef, p_value = stats.pearsonr(df['Builtup_area'], df['Price_house'])\n",
    "print('The Pearson Correlation Coeeficient is:',pearson_coef,'with a P_value:',p_value)"
   ]
  },
  {
   "cell_type": "code",
   "execution_count": 45,
   "metadata": {},
   "outputs": [
    {
     "name": "stdout",
     "output_type": "stream",
     "text": [
      "The Pearson Correlation Coeeficient is: 0.16596314513124058 with a P_value: 3.4835501678798904e-07\n"
     ]
    }
   ],
   "source": [
    "pearson_coef, p_value = stats.pearsonr(df['Hospital_dist'], df['Price_house'])\n",
    "print('The Pearson Correlation Coeeficient is:',pearson_coef,'with a P_value:',p_value)"
   ]
  },
  {
   "cell_type": "code",
   "execution_count": 46,
   "metadata": {},
   "outputs": [
    {
     "name": "stdout",
     "output_type": "stream",
     "text": [
      "The Pearson Correlation Coeeficient is: 0.16112562510671596 with a P_value: 7.626407707577051e-07\n"
     ]
    }
   ],
   "source": [
    "pearson_coef, p_value = stats.pearsonr(df['Market_dist'], df['Price_house'])\n",
    "print('The Pearson Correlation Coeeficient is:',pearson_coef,'with a P_value:',p_value)"
   ]
  },
  {
   "cell_type": "markdown",
   "metadata": {},
   "source": [
    "**Model Development**"
   ]
  },
  {
   "cell_type": "code",
   "execution_count": 47,
   "metadata": {},
   "outputs": [],
   "source": [
    "from sklearn.linear_model import LinearRegression"
   ]
  },
  {
   "cell_type": "code",
   "execution_count": 48,
   "metadata": {},
   "outputs": [
    {
     "data": {
      "text/plain": [
       "LinearRegression(copy_X=True, fit_intercept=True, n_jobs=None, normalize=False)"
      ]
     },
     "execution_count": 48,
     "metadata": {},
     "output_type": "execute_result"
    }
   ],
   "source": [
    "lm=LinearRegression()\n",
    "lm"
   ]
  },
  {
   "cell_type": "code",
   "execution_count": 49,
   "metadata": {
    "scrolled": true
   },
   "outputs": [
    {
     "data": {
      "text/html": [
       "<div>\n",
       "<style scoped>\n",
       "    .dataframe tbody tr th:only-of-type {\n",
       "        vertical-align: middle;\n",
       "    }\n",
       "\n",
       "    .dataframe tbody tr th {\n",
       "        vertical-align: top;\n",
       "    }\n",
       "\n",
       "    .dataframe thead th {\n",
       "        text-align: right;\n",
       "    }\n",
       "</style>\n",
       "<table border=\"1\" class=\"dataframe\">\n",
       "  <thead>\n",
       "    <tr style=\"text-align: right;\">\n",
       "      <th></th>\n",
       "      <th>Taxi_dist</th>\n",
       "      <th>Market_dist</th>\n",
       "      <th>Hospital_dist</th>\n",
       "      <th>Carpet_area</th>\n",
       "      <th>Builtup_area</th>\n",
       "      <th>Parking_type</th>\n",
       "      <th>City_type</th>\n",
       "      <th>Rainfall</th>\n",
       "      <th>Price_house</th>\n",
       "      <th>Builtup_area_binned</th>\n",
       "    </tr>\n",
       "  </thead>\n",
       "  <tbody>\n",
       "    <tr>\n",
       "      <th>0</th>\n",
       "      <td>0.474107</td>\n",
       "      <td>0.250656</td>\n",
       "      <td>0.459475</td>\n",
       "      <td>0.068272</td>\n",
       "      <td>0.154046</td>\n",
       "      <td>Open</td>\n",
       "      <td>CAT B</td>\n",
       "      <td>530</td>\n",
       "      <td>0.044327</td>\n",
       "      <td>Close</td>\n",
       "    </tr>\n",
       "    <tr>\n",
       "      <th>1</th>\n",
       "      <td>0.401413</td>\n",
       "      <td>0.390833</td>\n",
       "      <td>0.544947</td>\n",
       "      <td>0.060123</td>\n",
       "      <td>0.137628</td>\n",
       "      <td>Not Provided</td>\n",
       "      <td>CAT B</td>\n",
       "      <td>210</td>\n",
       "      <td>0.026547</td>\n",
       "      <td>Close</td>\n",
       "    </tr>\n",
       "    <tr>\n",
       "      <th>2</th>\n",
       "      <td>0.532427</td>\n",
       "      <td>0.687467</td>\n",
       "      <td>0.729415</td>\n",
       "      <td>0.055144</td>\n",
       "      <td>0.126394</td>\n",
       "      <td>Not Provided</td>\n",
       "      <td>CAT A</td>\n",
       "      <td>720</td>\n",
       "      <td>0.036007</td>\n",
       "      <td>Close</td>\n",
       "    </tr>\n",
       "    <tr>\n",
       "      <th>3</th>\n",
       "      <td>0.401752</td>\n",
       "      <td>0.534161</td>\n",
       "      <td>0.527561</td>\n",
       "      <td>0.059712</td>\n",
       "      <td>0.137313</td>\n",
       "      <td>Covered</td>\n",
       "      <td>CAT B</td>\n",
       "      <td>620</td>\n",
       "      <td>0.035820</td>\n",
       "      <td>Close</td>\n",
       "    </tr>\n",
       "    <tr>\n",
       "      <th>4</th>\n",
       "      <td>0.508663</td>\n",
       "      <td>0.602960</td>\n",
       "      <td>0.597622</td>\n",
       "      <td>0.072840</td>\n",
       "      <td>0.165829</td>\n",
       "      <td>Not Provided</td>\n",
       "      <td>CAT B</td>\n",
       "      <td>450</td>\n",
       "      <td>0.031080</td>\n",
       "      <td>Close</td>\n",
       "    </tr>\n",
       "  </tbody>\n",
       "</table>\n",
       "</div>"
      ],
      "text/plain": [
       "   Taxi_dist  Market_dist  Hospital_dist  Carpet_area  Builtup_area  \\\n",
       "0   0.474107     0.250656       0.459475     0.068272      0.154046   \n",
       "1   0.401413     0.390833       0.544947     0.060123      0.137628   \n",
       "2   0.532427     0.687467       0.729415     0.055144      0.126394   \n",
       "3   0.401752     0.534161       0.527561     0.059712      0.137313   \n",
       "4   0.508663     0.602960       0.597622     0.072840      0.165829   \n",
       "\n",
       "   Parking_type City_type  Rainfall  Price_house Builtup_area_binned  \n",
       "0          Open     CAT B       530     0.044327               Close  \n",
       "1  Not Provided     CAT B       210     0.026547               Close  \n",
       "2  Not Provided     CAT A       720     0.036007               Close  \n",
       "3       Covered     CAT B       620     0.035820               Close  \n",
       "4  Not Provided     CAT B       450     0.031080               Close  "
      ]
     },
     "execution_count": 49,
     "metadata": {},
     "output_type": "execute_result"
    }
   ],
   "source": [
    "df.head()"
   ]
  },
  {
   "cell_type": "code",
   "execution_count": 50,
   "metadata": {},
   "outputs": [
    {
     "data": {
      "text/plain": [
       "array([[0.04442887],\n",
       "       [0.0407232 ],\n",
       "       [0.04740179],\n",
       "       [0.04074047],\n",
       "       [0.04619042]])"
      ]
     },
     "execution_count": 50,
     "metadata": {},
     "output_type": "execute_result"
    }
   ],
   "source": [
    "X=df[['Taxi_dist']]\n",
    "Y=df[['Price_house']]\n",
    "lm.fit(X,Y)\n",
    "Yhat=lm.predict(X)\n",
    "Yhat[0:5]"
   ]
  },
  {
   "cell_type": "code",
   "execution_count": 51,
   "metadata": {},
   "outputs": [
    {
     "data": {
      "text/plain": [
       "array([0.02026063])"
      ]
     },
     "execution_count": 51,
     "metadata": {},
     "output_type": "execute_result"
    }
   ],
   "source": [
    "lm.intercept_"
   ]
  },
  {
   "cell_type": "code",
   "execution_count": 52,
   "metadata": {},
   "outputs": [
    {
     "data": {
      "text/plain": [
       "array([[0.05097633]])"
      ]
     },
     "execution_count": 52,
     "metadata": {},
     "output_type": "execute_result"
    }
   ],
   "source": [
    "lm.coef_"
   ]
  },
  {
   "cell_type": "markdown",
   "metadata": {},
   "source": [
    "**Y=0.0509*X + 0.02026**"
   ]
  },
  {
   "cell_type": "code",
   "execution_count": 53,
   "metadata": {},
   "outputs": [
    {
     "data": {
      "text/plain": [
       "array([[0.04620947],\n",
       "       [0.03861333],\n",
       "       [0.03397124],\n",
       "       [0.03822968],\n",
       "       [0.05046791]])"
      ]
     },
     "execution_count": 53,
     "metadata": {},
     "output_type": "execute_result"
    }
   ],
   "source": [
    "X=df[['Carpet_area']]\n",
    "Y=df[['Price_house']]\n",
    "lm.fit(X,Y)\n",
    "Yhat=lm.predict(X)\n",
    "Yhat[0:5]"
   ]
  },
  {
   "cell_type": "code",
   "execution_count": 54,
   "metadata": {},
   "outputs": [
    {
     "data": {
      "text/plain": [
       "array([-0.017437])"
      ]
     },
     "execution_count": 54,
     "metadata": {},
     "output_type": "execute_result"
    }
   ],
   "source": [
    "lm.intercept_"
   ]
  },
  {
   "cell_type": "code",
   "execution_count": 55,
   "metadata": {},
   "outputs": [
    {
     "data": {
      "text/plain": [
       "array([[0.9322539]])"
      ]
     },
     "execution_count": 55,
     "metadata": {},
     "output_type": "execute_result"
    }
   ],
   "source": [
    "lm.coef_"
   ]
  },
  {
   "cell_type": "markdown",
   "metadata": {},
   "source": [
    "**Y=0.932*X - 0.0174**"
   ]
  },
  {
   "cell_type": "code",
   "execution_count": 56,
   "metadata": {},
   "outputs": [
    {
     "data": {
      "text/plain": [
       "array([[0.0494967 ],\n",
       "       [0.038256  ],\n",
       "       [0.030565  ],\n",
       "       [0.03804087],\n",
       "       [0.05756419]])"
      ]
     },
     "execution_count": 56,
     "metadata": {},
     "output_type": "execute_result"
    }
   ],
   "source": [
    "X=df[['Builtup_area']]\n",
    "Y=df[['Price_house']]\n",
    "lm.fit(X,Y)\n",
    "Yhat=lm.predict(X)\n",
    "Yhat[0:5]"
   ]
  },
  {
   "cell_type": "code",
   "execution_count": 57,
   "metadata": {},
   "outputs": [
    {
     "data": {
      "text/plain": [
       "array([-0.05597225])"
      ]
     },
     "execution_count": 57,
     "metadata": {},
     "output_type": "execute_result"
    }
   ],
   "source": [
    "lm.intercept_"
   ]
  },
  {
   "cell_type": "code",
   "execution_count": 58,
   "metadata": {},
   "outputs": [
    {
     "data": {
      "text/plain": [
       "array([[0.68466079]])"
      ]
     },
     "execution_count": 58,
     "metadata": {},
     "output_type": "execute_result"
    }
   ],
   "source": [
    "lm.coef_"
   ]
  },
  {
   "cell_type": "markdown",
   "metadata": {},
   "source": [
    "**Y= 0.684*X - 0.0559**"
   ]
  },
  {
   "cell_type": "code",
   "execution_count": 59,
   "metadata": {},
   "outputs": [
    {
     "data": {
      "text/plain": [
       "array([0.04189886, 0.03937179, 0.03859919, 0.03891303, 0.04165707])"
      ]
     },
     "execution_count": 59,
     "metadata": {},
     "output_type": "execute_result"
    }
   ],
   "source": [
    "Z=df[['Carpet_area','Builtup_area']]\n",
    "Y=df['Price_house']\n",
    "lm.fit(Z,Y)\n",
    "Yhat_multi=lm.predict(Z)\n",
    "Yhat_multi[0:5]"
   ]
  },
  {
   "cell_type": "code",
   "execution_count": 60,
   "metadata": {},
   "outputs": [
    {
     "data": {
      "text/plain": [
       "0.03132419969076769"
      ]
     },
     "execution_count": 60,
     "metadata": {},
     "output_type": "execute_result"
    }
   ],
   "source": [
    "lm.intercept_"
   ]
  },
  {
   "cell_type": "code",
   "execution_count": 61,
   "metadata": {},
   "outputs": [
    {
     "data": {
      "text/plain": [
       "array([ 1.60577164, -0.64301721])"
      ]
     },
     "execution_count": 61,
     "metadata": {},
     "output_type": "execute_result"
    }
   ],
   "source": [
    "lm.coef_"
   ]
  },
  {
   "cell_type": "markdown",
   "metadata": {},
   "source": [
    "**Y=1.6057*X1 -0.643*X2 + 0.03132**"
   ]
  },
  {
   "cell_type": "code",
   "execution_count": 62,
   "metadata": {},
   "outputs": [
    {
     "data": {
      "text/plain": [
       "array([0.03946857, 0.03837801, 0.0411422 , 0.03873296, 0.04263251])"
      ]
     },
     "execution_count": 62,
     "metadata": {},
     "output_type": "execute_result"
    }
   ],
   "source": [
    "Z1=df[['Taxi_dist','Market_dist','Hospital_dist','Carpet_area','Builtup_area']]\n",
    "Y=df['Price_house']\n",
    "lm.fit(Z1,Y)\n",
    "Yhat_1=lm.predict(Z1)\n",
    "Yhat_1[0:5]"
   ]
  },
  {
   "cell_type": "code",
   "execution_count": 63,
   "metadata": {},
   "outputs": [
    {
     "data": {
      "text/plain": [
       "0.022983751579761624"
      ]
     },
     "execution_count": 63,
     "metadata": {},
     "output_type": "execute_result"
    }
   ],
   "source": [
    "lm.intercept_"
   ]
  },
  {
   "cell_type": "code",
   "execution_count": 64,
   "metadata": {},
   "outputs": [
    {
     "data": {
      "text/plain": [
       "array([ 0.00171919,  0.00654964,  0.00743448,  1.59210265, -0.63671634])"
      ]
     },
     "execution_count": 64,
     "metadata": {},
     "output_type": "execute_result"
    }
   ],
   "source": [
    "lm.coef_"
   ]
  },
  {
   "cell_type": "markdown",
   "metadata": {},
   "source": [
    "**Y= 0.00171*X1 + 0.0065*X2 + 0.0074*X3 + 1.592*X4 - 0.636*X5 + 0.0229**"
   ]
  },
  {
   "cell_type": "code",
   "execution_count": 65,
   "metadata": {},
   "outputs": [
    {
     "data": {
      "image/png": "[encoded data removed]",
      "text/plain": [
       "<Figure size 720x576 with 1 Axes>"
      ]
     },
     "metadata": {
      "needs_background": "light"
     },
     "output_type": "display_data"
    }
   ],
   "source": [
    "plt.figure(figsize=(10,8))\n",
    "sns.regplot(x='Taxi_dist',y='Price_house',data=df)\n",
    "plt.ylim(0,)\n",
    "plt.grid()"
   ]
  },
  {
   "cell_type": "code",
   "execution_count": 66,
   "metadata": {},
   "outputs": [
    {
     "data": {
      "image/png": "[encoded data removed]",
      "text/plain": [
       "<Figure size 720x576 with 1 Axes>"
      ]
     },
     "metadata": {
      "needs_background": "light"
     },
     "output_type": "display_data"
    }
   ],
   "source": [
    "plt.figure(figsize=(10,8))\n",
    "sns.regplot(x='Carpet_area',y='Price_house',data=df)\n",
    "plt.ylim(0,)\n",
    "plt.grid()"
   ]
  },
  {
   "cell_type": "code",
   "execution_count": 67,
   "metadata": {},
   "outputs": [
    {
     "data": {
      "image/png": "[encoded data removed]",
      "text/plain": [
       "<Figure size 720x576 with 1 Axes>"
      ]
     },
     "metadata": {
      "needs_background": "light"
     },
     "output_type": "display_data"
    }
   ],
   "source": [
    "plt.figure(figsize=(10,8))\n",
    "sns.regplot(x='Builtup_area',y='Price_house',data=df)\n",
    "plt.ylim(0,)\n",
    "plt.grid()"
   ]
  },
  {
   "cell_type": "markdown",
   "metadata": {},
   "source": [
    "**Model Evaluation**"
   ]
  },
  {
   "cell_type": "code",
   "execution_count": 98,
   "metadata": {},
   "outputs": [],
   "source": [
    "y_data = df['Price_house']\n",
    "x_data = df.drop('Price_house',axis=1)"
   ]
  },
  {
   "cell_type": "code",
   "execution_count": 99,
   "metadata": {},
   "outputs": [
    {
     "name": "stdout",
     "output_type": "stream",
     "text": [
      "Number of test samples: 187\n",
      "Number of training samples: 745\n"
     ]
    }
   ],
   "source": [
    "from sklearn.model_selection import train_test_split\n",
    "\n",
    "x_train, x_test, y_train, y_test = train_test_split(x_data, y_data, test_size=0.20, random_state=1)\n",
    "\n",
    "print('Number of test samples:', x_test.shape[0])\n",
    "print('Number of training samples:', x_train.shape[0])"
   ]
  },
  {
   "cell_type": "code",
   "execution_count": 75,
   "metadata": {},
   "outputs": [],
   "source": [
    "from sklearn.linear_model import LinearRegression"
   ]
  },
  {
   "cell_type": "code",
   "execution_count": 77,
   "metadata": {},
   "outputs": [],
   "source": [
    "lre=LinearRegression()"
   ]
  },
  {
   "cell_type": "code",
   "execution_count": 78,
   "metadata": {},
   "outputs": [
    {
     "data": {
      "text/plain": [
       "LinearRegression(copy_X=True, fit_intercept=True, n_jobs=None, normalize=False)"
      ]
     },
     "execution_count": 78,
     "metadata": {},
     "output_type": "execute_result"
    }
   ],
   "source": [
    "lre.fit(x_train[['Carpet_area']], y_train)"
   ]
  },
  {
   "cell_type": "code",
   "execution_count": 80,
   "metadata": {},
   "outputs": [
    {
     "name": "stdout",
     "output_type": "stream",
     "text": [
      "R^2 score: -0.5391388313921015\n"
     ]
    }
   ],
   "source": [
    "A=lre.score(x_test[['Carpet_area']], y_test)\n",
    "print('R^2 score:',A)"
   ]
  },
  {
   "cell_type": "code",
   "execution_count": 81,
   "metadata": {},
   "outputs": [
    {
     "name": "stdout",
     "output_type": "stream",
     "text": [
      "R^2 score: 0.8402293882344382\n"
     ]
    }
   ],
   "source": [
    "B=lre.score(x_train[['Carpet_area']], y_train)\n",
    "print('R^2 score:',B)"
   ]
  },
  {
   "cell_type": "code",
   "execution_count": 82,
   "metadata": {},
   "outputs": [],
   "source": [
    "from sklearn.model_selection import cross_val_score"
   ]
  },
  {
   "cell_type": "code",
   "execution_count": 83,
   "metadata": {},
   "outputs": [
    {
     "data": {
      "text/plain": [
       "array([-0.55585523,  0.22660169, -0.62983153, -0.45264087])"
      ]
     },
     "execution_count": 83,
     "metadata": {},
     "output_type": "execute_result"
    }
   ],
   "source": [
    "Rcross = cross_val_score(lre, x_data[['Carpet_area']], y_data, cv=4)\n",
    "Rcross"
   ]
  },
  {
   "cell_type": "code",
   "execution_count": 84,
   "metadata": {},
   "outputs": [],
   "source": [
    "from sklearn.model_selection import cross_val_predict"
   ]
  },
  {
   "cell_type": "code",
   "execution_count": 85,
   "metadata": {},
   "outputs": [
    {
     "data": {
      "text/plain": [
       "array([0.0469214 , 0.03917274, 0.03443745, 0.03878139, 0.05126535])"
      ]
     },
     "execution_count": 85,
     "metadata": {},
     "output_type": "execute_result"
    }
   ],
   "source": [
    "yhat=cross_val_predict(lre,x_data[['Carpet_area']], y_data, cv=4)\n",
    "yhat[0:5]"
   ]
  },
  {
   "cell_type": "code",
   "execution_count": 86,
   "metadata": {},
   "outputs": [
    {
     "data": {
      "text/plain": [
       "LinearRegression(copy_X=True, fit_intercept=True, n_jobs=None, normalize=False)"
      ]
     },
     "execution_count": 86,
     "metadata": {},
     "output_type": "execute_result"
    }
   ],
   "source": [
    "lre.fit(x_train[['Builtup_area']], y_train)"
   ]
  },
  {
   "cell_type": "code",
   "execution_count": 87,
   "metadata": {},
   "outputs": [
    {
     "name": "stdout",
     "output_type": "stream",
     "text": [
      "R^2 score: -2.0806261065206675\n"
     ]
    }
   ],
   "source": [
    "A1=lre.score(x_test[['Builtup_area']], y_test)\n",
    "print('R^2 score:',A1)"
   ]
  },
  {
   "cell_type": "code",
   "execution_count": 89,
   "metadata": {},
   "outputs": [
    {
     "name": "stdout",
     "output_type": "stream",
     "text": [
      "R^2 score: 0.605157175574317\n"
     ]
    }
   ],
   "source": [
    "B1=lre.score(x_train[['Builtup_area']], y_train)\n",
    "print('R^2 score:', B1)"
   ]
  },
  {
   "cell_type": "code",
   "execution_count": 90,
   "metadata": {},
   "outputs": [
    {
     "data": {
      "text/plain": [
       "array([-2.16805865,  0.08563137, -2.34871605, -1.74158506])"
      ]
     },
     "execution_count": 90,
     "metadata": {},
     "output_type": "execute_result"
    }
   ],
   "source": [
    "Rcross_1 = cross_val_score(lre, x_data[['Builtup_area']], y_data, cv=4)\n",
    "Rcross_1"
   ]
  },
  {
   "cell_type": "code",
   "execution_count": 91,
   "metadata": {},
   "outputs": [
    {
     "data": {
      "text/plain": [
       "array([0.05130839, 0.03897429, 0.03053516, 0.03873823, 0.06016062])"
      ]
     },
     "execution_count": 91,
     "metadata": {},
     "output_type": "execute_result"
    }
   ],
   "source": [
    "yhat_1=cross_val_predict(lre,x_data[['Builtup_area']],y_data, cv=4)\n",
    "yhat_1[0:5]"
   ]
  },
  {
   "cell_type": "code",
   "execution_count": 102,
   "metadata": {},
   "outputs": [
    {
     "data": {
      "text/plain": [
       "LinearRegression(copy_X=True, fit_intercept=True, n_jobs=None, normalize=False)"
      ]
     },
     "execution_count": 102,
     "metadata": {},
     "output_type": "execute_result"
    }
   ],
   "source": [
    "lr=LinearRegression()\n",
    "lr.fit(x_train[['Carpet_area','Builtup_area']], y_train)"
   ]
  },
  {
   "cell_type": "code",
   "execution_count": 103,
   "metadata": {},
   "outputs": [
    {
     "data": {
      "text/plain": [
       "array([0.04059301, 0.03979349, 0.04176423, 0.03882352, 0.0388084 ])"
      ]
     },
     "execution_count": 103,
     "metadata": {},
     "output_type": "execute_result"
    }
   ],
   "source": [
    "yhat_train = lr.predict(x_train[['Carpet_area','Builtup_area']])\n",
    "yhat_train[0:5]"
   ]
  },
  {
   "cell_type": "code",
   "execution_count": 104,
   "metadata": {},
   "outputs": [
    {
     "data": {
      "text/plain": [
       "array([0.03856566, 0.03949377, 0.03942479, 0.03759939, 0.03896535])"
      ]
     },
     "execution_count": 104,
     "metadata": {},
     "output_type": "execute_result"
    }
   ],
   "source": [
    "yhat_test = lr.predict(x_test[['Carpet_area','Builtup_area']])\n",
    "yhat_test[0:5]"
   ]
  },
  {
   "cell_type": "code",
   "execution_count": 114,
   "metadata": {},
   "outputs": [
    {
     "data": {
      "image/png": "[encoded data removed]",
      "text/plain": [
       "<Figure size 720x576 with 1 Axes>"
      ]
     },
     "metadata": {
      "needs_background": "light"
     },
     "output_type": "display_data"
    }
   ],
   "source": [
    "plt.figure(figsize=(10,8))\n",
    "\n",
    "ax1=sns.distplot(y_train,hist=False,color='r',label='Actual Value')\n",
    "sns.distplot(yhat_train,hist=False,color='b',label='Predicted Value',ax=ax1)\n",
    "\n",
    "plt.xlabel('Price_house')\n",
    "plt.ylabel('Proportion of house sold')\n",
    "plt.title('Actual Value vs Predicted value on traing data')\n",
    "\n",
    "plt.show()\n",
    "plt.close()"
   ]
  },
  {
   "cell_type": "code",
   "execution_count": 115,
   "metadata": {},
   "outputs": [
    {
     "data": {
      "image/png": "[encoded data removed]",
      "text/plain": [
       "<Figure size 720x576 with 1 Axes>"
      ]
     },
     "metadata": {
      "needs_background": "light"
     },
     "output_type": "display_data"
    }
   ],
   "source": [
    "plt.figure(figsize=(10,8))\n",
    "\n",
    "ax1=sns.distplot(y_test,hist=False,color='r',label='Actual Value')\n",
    "sns.distplot(yhat_test,hist=False,color='b',label='Predicted Value',ax=ax1)\n",
    "\n",
    "plt.xlabel('Price_house')\n",
    "plt.ylabel('Proportion of house sold')\n",
    "plt.title('Actual Value vs Predicted value on traing data')\n",
    "\n",
    "plt.show()\n",
    "plt.close()"
   ]
  },
  {
   "cell_type": "code",
   "execution_count": null,
   "metadata": {},
   "outputs": [],
   "source": []
  }
 ],
 "metadata": {
  "kernelspec": {
   "display_name": "Python 3",
   "language": "python",
   "name": "python3"
  },
  "language_info": {
   "codemirror_mode": {
    "name": "ipython",
    "version": 3
   },
   "file_extension": ".py",
   "mimetype": "text/x-python",
   "name": "python",
   "nbconvert_exporter": "python",
   "pygments_lexer": "ipython3",
   "version": "3.7.6"
  }
 },
 "nbformat": 4,
 "nbformat_minor": 4
}
